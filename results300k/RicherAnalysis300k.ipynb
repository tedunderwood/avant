{
 "cells": [
  {
   "cell_type": "markdown",
   "id": "a63418bf-307d-4b2a-9d42-1f5b9a0cac15",
   "metadata": {},
   "source": [
    "# Richer analysis of precocity results\n",
    "\n",
    "Second analysis of the 300k model, including information about individual venues of review.\n"
   ]
  },
  {
   "cell_type": "code",
   "execution_count": 37,
   "id": "9d6cd918-48bb-4732-9b28-ca0a1fc9e47d",
   "metadata": {},
   "outputs": [],
   "source": [
    "import pandas as pd\n",
    "import numpy as np\n",
    "from scipy.stats import ttest_ind, pearsonr, spearmanr, zscore\n",
    "from statistics import mean, stdev\n",
    "from math import sqrt\n",
    "import seaborn as sns\n",
    "import random\n",
    "from matplotlib import pyplot as plt"
   ]
  },
  {
   "cell_type": "markdown",
   "id": "0ee67bf6-efcd-4750-9cc7-97b090c1a8c0",
   "metadata": {},
   "source": [
    "The results I'll use here were created by comparing books forward and backward using KL divergence, which is what Barron et al. do and what we preregistered. But the directory also includes results measured with cosine distance.\n",
    "\n",
    "In any case we load them in the next cell. \n",
    "\n",
    "### Load the novelty / precocity results\n",
    "\n",
    "The name \"centersurprise\" is because KLD/surprise is asymmetric and this is organized the same way Barron et al do it, where the books in the past (or future) are the reference point and the book in the center of the timeline is being compared to them."
   ]
  },
  {
   "cell_type": "code",
   "execution_count": 4,
   "id": "f125b6f8-e036-4550-97de-d9ebbcfe8ee7",
   "metadata": {},
   "outputs": [],
   "source": [
    "results = []\n",
    "\n",
    "for floor in range(0, 12000, 2000):\n",
    "    df = pd.read_csv('../asym300/results/centersurprise_' + str(floor) + 'summary.tsv', sep = '\\t', low_memory = False)\n",
    "    results.append(df)"
   ]
  },
  {
   "cell_type": "code",
   "execution_count": 5,
   "id": "33f2bcd2-d27c-492e-a298-5008bff8fa19",
   "metadata": {},
   "outputs": [],
   "source": [
    "results = pd.concat(results)"
   ]
  },
  {
   "cell_type": "code",
   "execution_count": 6,
   "id": "249d7860-bdb3-49be-8250-3d2f86cc83c8",
   "metadata": {},
   "outputs": [
    {
     "data": {
      "text/plain": [
       "(10281, 7)"
      ]
     },
     "execution_count": 6,
     "metadata": {},
     "output_type": "execute_result"
    }
   ],
   "source": [
    "results.shape"
   ]
  },
  {
   "cell_type": "code",
   "execution_count": 7,
   "id": "7a428708-028d-4d14-ba97-cc59590b799f",
   "metadata": {},
   "outputs": [
    {
     "data": {
      "text/html": [
       "<div>\n",
       "<style scoped>\n",
       "    .dataframe tbody tr th:only-of-type {\n",
       "        vertical-align: middle;\n",
       "    }\n",
       "\n",
       "    .dataframe tbody tr th {\n",
       "        vertical-align: top;\n",
       "    }\n",
       "\n",
       "    .dataframe thead th {\n",
       "        text-align: right;\n",
       "    }\n",
       "</style>\n",
       "<table border=\"1\" class=\"dataframe\">\n",
       "  <thead>\n",
       "    <tr style=\"text-align: right;\">\n",
       "      <th></th>\n",
       "      <th>docid</th>\n",
       "      <th>novelty_1.0_25</th>\n",
       "      <th>novelty_0.05_25</th>\n",
       "      <th>transience_1.0_25</th>\n",
       "      <th>transience_0.05_25</th>\n",
       "      <th>resonance_1.0_25</th>\n",
       "      <th>resonance_0.05_25</th>\n",
       "    </tr>\n",
       "  </thead>\n",
       "  <tbody>\n",
       "    <tr>\n",
       "      <th>0</th>\n",
       "      <td>njp.32101068163433</td>\n",
       "      <td>2.347248</td>\n",
       "      <td>1.282503</td>\n",
       "      <td>2.136945</td>\n",
       "      <td>1.270183</td>\n",
       "      <td>0.210303</td>\n",
       "      <td>0.012320</td>\n",
       "    </tr>\n",
       "    <tr>\n",
       "      <th>1</th>\n",
       "      <td>wu.89099446122</td>\n",
       "      <td>1.903351</td>\n",
       "      <td>1.078384</td>\n",
       "      <td>1.726808</td>\n",
       "      <td>0.989093</td>\n",
       "      <td>0.176543</td>\n",
       "      <td>0.089291</td>\n",
       "    </tr>\n",
       "    <tr>\n",
       "      <th>2</th>\n",
       "      <td>uc1.$b299322</td>\n",
       "      <td>2.004030</td>\n",
       "      <td>1.151198</td>\n",
       "      <td>1.954290</td>\n",
       "      <td>1.149878</td>\n",
       "      <td>0.049740</td>\n",
       "      <td>0.001319</td>\n",
       "    </tr>\n",
       "    <tr>\n",
       "      <th>3</th>\n",
       "      <td>mdp.39015032038120</td>\n",
       "      <td>1.643349</td>\n",
       "      <td>0.943281</td>\n",
       "      <td>1.686718</td>\n",
       "      <td>0.984908</td>\n",
       "      <td>-0.043369</td>\n",
       "      <td>-0.041626</td>\n",
       "    </tr>\n",
       "    <tr>\n",
       "      <th>4</th>\n",
       "      <td>mdp.39015005023844</td>\n",
       "      <td>1.926617</td>\n",
       "      <td>1.161039</td>\n",
       "      <td>1.955640</td>\n",
       "      <td>1.140674</td>\n",
       "      <td>-0.029022</td>\n",
       "      <td>0.020366</td>\n",
       "    </tr>\n",
       "  </tbody>\n",
       "</table>\n",
       "</div>"
      ],
      "text/plain": [
       "                docid  novelty_1.0_25  novelty_0.05_25  transience_1.0_25  \\\n",
       "0  njp.32101068163433        2.347248         1.282503           2.136945   \n",
       "1      wu.89099446122        1.903351         1.078384           1.726808   \n",
       "2        uc1.$b299322        2.004030         1.151198           1.954290   \n",
       "3  mdp.39015032038120        1.643349         0.943281           1.686718   \n",
       "4  mdp.39015005023844        1.926617         1.161039           1.955640   \n",
       "\n",
       "   transience_0.05_25  resonance_1.0_25  resonance_0.05_25  \n",
       "0            1.270183          0.210303           0.012320  \n",
       "1            0.989093          0.176543           0.089291  \n",
       "2            1.149878          0.049740           0.001319  \n",
       "3            0.984908         -0.043369          -0.041626  \n",
       "4            1.140674         -0.029022           0.020366  "
      ]
     },
     "execution_count": 7,
     "metadata": {},
     "output_type": "execute_result"
    }
   ],
   "source": [
    "results.head()"
   ]
  },
  {
   "cell_type": "code",
   "execution_count": 8,
   "id": "4468a6ed-233e-461d-a212-2290e5adf2a8",
   "metadata": {},
   "outputs": [
    {
     "data": {
      "text/plain": [
       "docid                   0\n",
       "novelty_1.0_25        499\n",
       "novelty_0.05_25       499\n",
       "transience_1.0_25     658\n",
       "transience_0.05_25    658\n",
       "resonance_1.0_25      988\n",
       "resonance_0.05_25     988\n",
       "dtype: int64"
      ]
     },
     "execution_count": 8,
     "metadata": {},
     "output_type": "execute_result"
    }
   ],
   "source": [
    "results.isna().sum()"
   ]
  },
  {
   "cell_type": "code",
   "execution_count": 9,
   "id": "ab259173-1b57-408f-baa3-4a162c6b3fc7",
   "metadata": {},
   "outputs": [
    {
     "data": {
      "text/plain": [
       "(9293, 7)"
      ]
     },
     "execution_count": 9,
     "metadata": {},
     "output_type": "execute_result"
    }
   ],
   "source": [
    "results = results.dropna(how = 'any')\n",
    "results.shape"
   ]
  },
  {
   "cell_type": "markdown",
   "id": "6b919785-d39b-4040-8338-4918d582ae5b",
   "metadata": {},
   "source": [
    "The columns with 1.0 are measured with respect to all volumes in a year. The columns with .05 are measured with respect to the 5% of most similar books (excluding books with the same author — and we're quite careful to exclude them, using fuzzy matching so we exclude them even if spelling is slightly different.\n",
    "\n",
    "All the columns are measured in a 25-year window, which means we consider *all* the volumes from 1 year back to 25 years back, etc.\n",
    "\n",
    "The thing labeled here as \"resonance\" is what we're calling \"precocity.\" I haven't changed the term in the python script yet.\n",
    "\n",
    "This dataframe includes volumes in and out of the topic model. \n",
    "\n",
    "### Now load metadata\n",
    "\n",
    "This file contains both regular metadata and some summary statistics about reception generated in the ```reception_data.ipynb``` notebook. For instance, we know for each book whether its author was in Liza's lists of prizewinning authors and whether the book itself was a bestseller. \n",
    "\n",
    "For books that were matched to *Book Review Digest,* we also know the total review wordcount and the average review sentiment, although I caution that this estimate is a bit unreliable because sentiment is missing in many cases. In the final version we might train a model to estimate it for those cases.\n",
    "\n",
    "Finally, there's a column called ```review_comparison``` This is an important tricky detail. The volumes in metadata include many volumes that I was able to match to book reviews. Some of these were included in the topic model that we used as a reference set, some were not. But I also included ~1,000 volumes that were in the model but *not* matched to reviews. Some of these might have been missed in the matching process, but many of these are probably things that didn't get reviewed or at any rate didn't get summarized in *Book Review Digest.* They are thus *likely* to be more obscure than the reviewed volumes. \n",
    "\n",
    "We can directly compare the reviewed to unreviewed volumes, but we can also combine these sets to create a reference set that fairly represents the average book in the model."
   ]
  },
  {
   "cell_type": "code",
   "execution_count": 23,
   "id": "213dc8d2-5aa6-41bf-ba76-923dc03bc2df",
   "metadata": {},
   "outputs": [],
   "source": [
    "meta = pd.read_csv('richer_reception.tsv', sep = '\\t')"
   ]
  },
  {
   "cell_type": "code",
   "execution_count": 24,
   "id": "32e6173c-d874-49a2-88e6-f38fc0e68427",
   "metadata": {},
   "outputs": [
    {
     "data": {
      "text/plain": [
       "Index(['docid', 'author', 'title', 'latestcomp', 'in_topic_model',\n",
       "       'hathi_author', 'hathi_title', 'topicmodel_firstpub', 'birthyear',\n",
       "       'us_national', 'authof3ormore', 'in_BRD', 'brd_review_year', 'rownum',\n",
       "       'is_bestseller', 'bestseller_year', 'is_prize_author', 'is_retroavant',\n",
       "       'retrospective_firstpub', 'consensus_earliest_date', 'author_age',\n",
       "       'standardized_name', 'review_comparison', 'review_wordcount',\n",
       "       'review_sentiment', 'N Y Times', 'Sat R of Lit', 'Booklist',\n",
       "       'Boston Transcript', 'Books', 'Times [London] Lit Sup', 'New Yorker',\n",
       "       'Nation', 'New Repub', 'Springf'd Republican', 'Spec', 'Wis Lib Bui',\n",
       "       'Library J', 'Outlook', 'San Francisco Chronicle', 'NY Times',\n",
       "       'Weekly Book Review', 'Lit R', 'Cleveland Open Shelf', 'Time', 'Klrkus',\n",
       "       'Kirkus', 'Bookm', 'Pratt', 'Sat R', 'Commonweal', 'Cath World',\n",
       "       'Christian Science Monitor', 'Book Week', 'Manchester Guardian'],\n",
       "      dtype='object')"
      ]
     },
     "execution_count": 24,
     "metadata": {},
     "output_type": "execute_result"
    }
   ],
   "source": [
    "meta.columns"
   ]
  },
  {
   "cell_type": "markdown",
   "id": "ed068e59-b293-40be-b352-11fa1cdc663c",
   "metadata": {},
   "source": [
    "### What fraction of our books were matched in BRD\n",
    "\n",
    "To find this out we have to construct a larger master-metadata file."
   ]
  },
  {
   "cell_type": "code",
   "execution_count": 25,
   "id": "285f5e9f-46dd-4126-a759-16e96e2c851e",
   "metadata": {},
   "outputs": [],
   "source": [
    "master_meta = pd.read_csv('../Metadata_construction/constructed_metadata.csv')"
   ]
  },
  {
   "cell_type": "code",
   "execution_count": 26,
   "id": "f02c9095-286a-4c4e-a10e-37fd66a6d196",
   "metadata": {},
   "outputs": [
    {
     "data": {
      "text/plain": [
       "4082"
      ]
     },
     "execution_count": 26,
     "metadata": {},
     "output_type": "execute_result"
    }
   ],
   "source": [
    "reviewedintm = sum(master_meta.in_topic_model & master_meta.in_BRD)\n",
    "reviewedintm"
   ]
  },
  {
   "cell_type": "code",
   "execution_count": 28,
   "id": "c34e321f-219e-49af-9e35-d6ec5611c920",
   "metadata": {},
   "outputs": [
    {
     "data": {
      "text/plain": [
       "25269"
      ]
     },
     "execution_count": 28,
     "metadata": {},
     "output_type": "execute_result"
    }
   ],
   "source": [
    "unreviewedintm = sum(master_meta.in_topic_model & ~master_meta.in_BRD)\n",
    "unreviewedintm"
   ]
  },
  {
   "cell_type": "code",
   "execution_count": 29,
   "id": "c38855ce-146a-49ef-9c54-f59e5c45ed14",
   "metadata": {},
   "outputs": [
    {
     "data": {
      "text/plain": [
       "review_comparison\n",
       "not_in_tm                  4773\n",
       "reviewed_tm_sample         4082\n",
       "unreviewed_tm_sample       1019\n",
       "here_for_another_reason     465\n",
       "Name: count, dtype: int64"
      ]
     },
     "execution_count": 29,
     "metadata": {},
     "output_type": "execute_result"
    }
   ],
   "source": [
    "meta.review_comparison.value_counts()"
   ]
  },
  {
   "cell_type": "markdown",
   "id": "4c283a5b-0d11-479b-9176-cc8a7550ad28",
   "metadata": {},
   "source": [
    "So, to create a set that represents the average book in our topic model, we need to supplement our 1019 unreviewed books with (4082/25269) * 1019 books."
   ]
  },
  {
   "cell_type": "code",
   "execution_count": 33,
   "id": "af110953-1541-4b2f-9702-5526a7bddd7e",
   "metadata": {},
   "outputs": [
    {
     "name": "stdout",
     "output_type": "stream",
     "text": [
      "164\n",
      "1183\n"
     ]
    }
   ],
   "source": [
    "k = int((4082/25269) * 1019)\n",
    "print(k)\n",
    "unreviewed_indices = set(meta[meta.review_comparison == 'unreviewed_tm_sample'].index.values.tolist())\n",
    "reviewed_indices = set(meta[meta.review_comparison == 'reviewed_tm_sample'].index.values.tolist())\n",
    "reviewed_sample = random.sample(list(reviewed_indices), k)\n",
    "average_indices = unreviewed_indices.union(reviewed_sample)\n",
    "print(len(average_indices))"
   ]
  },
  {
   "cell_type": "code",
   "execution_count": 34,
   "id": "52bf17c3-5e48-4883-ba8c-3c794ec1374a",
   "metadata": {},
   "outputs": [],
   "source": [
    "is_average = []\n",
    "for idx, row in meta.iterrows():\n",
    "    if idx in average_indices:\n",
    "        is_average.append(True)\n",
    "    else:\n",
    "        is_average.append(False)\n",
    "\n",
    "meta['is_average'] = is_average"
   ]
  },
  {
   "cell_type": "markdown",
   "id": "e678c539-6b62-4e98-b78a-f9be9800e085",
   "metadata": {},
   "source": [
    "#### merge the data and metadata\n",
    "\n",
    "They both have a ```docid``` column."
   ]
  },
  {
   "cell_type": "code",
   "execution_count": 35,
   "id": "9b44f20a-031c-4d1b-b677-68b93992b0f0",
   "metadata": {},
   "outputs": [
    {
     "name": "stdout",
     "output_type": "stream",
     "text": [
      "meta (10339, 56)\n",
      "results (9293, 7)\n"
     ]
    },
    {
     "data": {
      "text/plain": [
       "(9293, 62)"
      ]
     },
     "execution_count": 35,
     "metadata": {},
     "output_type": "execute_result"
    }
   ],
   "source": [
    "print('meta', meta.shape)\n",
    "print('results', results.shape)\n",
    "data = meta.merge(results, on = 'docid')\n",
    "data.shape"
   ]
  },
  {
   "cell_type": "markdown",
   "id": "1343ae80-9925-4d36-8320-b976fe95ce05",
   "metadata": {},
   "source": [
    "### Does resonance show trends over the timeline?\n",
    "\n",
    "Is there variation? If so we need to normalize."
   ]
  },
  {
   "cell_type": "code",
   "execution_count": 36,
   "id": "5fccf508-4560-4cf9-882d-c6025fd940ba",
   "metadata": {},
   "outputs": [
    {
     "ename": "NameError",
     "evalue": "name 'sns' is not defined",
     "output_type": "error",
     "traceback": [
      "\u001b[0;31m---------------------------------------------------------------------------\u001b[0m",
      "\u001b[0;31mNameError\u001b[0m                                 Traceback (most recent call last)",
      "Cell \u001b[0;32mIn[36], line 1\u001b[0m\n\u001b[0;32m----> 1\u001b[0m b \u001b[38;5;241m=\u001b[39m \u001b[43msns\u001b[49m\u001b[38;5;241m.\u001b[39mlineplot(data \u001b[38;5;241m=\u001b[39m data, x \u001b[38;5;241m=\u001b[39m \u001b[38;5;124m'\u001b[39m\u001b[38;5;124mconsensus_earliest_date\u001b[39m\u001b[38;5;124m'\u001b[39m, y \u001b[38;5;241m=\u001b[39m \u001b[38;5;124m'\u001b[39m\u001b[38;5;124mresonance_0.05_25\u001b[39m\u001b[38;5;124m'\u001b[39m)\n\u001b[1;32m      2\u001b[0m b\u001b[38;5;241m.\u001b[39mset(xlim \u001b[38;5;241m=\u001b[39m (\u001b[38;5;241m1916\u001b[39m, \u001b[38;5;241m1950\u001b[39m), ylim \u001b[38;5;241m=\u001b[39m (\u001b[38;5;241m-\u001b[39m\u001b[38;5;241m0.05\u001b[39m, \u001b[38;5;241m0.10\u001b[39m))\n",
      "\u001b[0;31mNameError\u001b[0m: name 'sns' is not defined"
     ]
    }
   ],
   "source": [
    "b = sns.lineplot(data = data, x = 'consensus_earliest_date', y = 'resonance_0.05_25')\n",
    "b.set(xlim = (1916, 1950), ylim = (-0.05, 0.10))"
   ]
  },
  {
   "cell_type": "code",
   "execution_count": 38,
   "id": "1d5b58e7-0684-4b3e-b275-cab1d9edfc5d",
   "metadata": {},
   "outputs": [
    {
     "data": {
      "text/plain": [
       "[(1916.0, 1950.0), (-0.05, 0.2)]"
      ]
     },
     "execution_count": 38,
     "metadata": {},
     "output_type": "execute_result"
    },
    {
     "data": {
      "image/png": "[encoded data removed]",
      "text/plain": [
       "<Figure size 640x480 with 1 Axes>"
      ]
     },
     "metadata": {},
     "output_type": "display_data"
    }
   ],
   "source": [
    "b = sns.lineplot(data = data, x = 'consensus_earliest_date', y = 'resonance_1.0_25')\n",
    "b.set(xlim = (1916, 1950), ylim = (-0.05, 0.20))"
   ]
  },
  {
   "cell_type": "markdown",
   "id": "e88d7617-c79a-4dcb-898e-dfa2f904c665",
   "metadata": {},
   "source": [
    "Yes, there is definitely variation in these measures over time, especially if we use all the books. Why that is might be worth inquiring about. It looks a bit like something happened in the late 60s or 70s that made all late 1940s books different from their future -- at least in university libraries. Expanding range of author nationality?\n",
    "\n",
    "But for the moment we can normalize the measures to z scores by year."
   ]
  },
  {
   "cell_type": "code",
   "execution_count": 39,
   "id": "72e48a58-a48c-49a3-9015-b876f386d231",
   "metadata": {},
   "outputs": [
    {
     "data": {
      "text/plain": [
       "(9293, 6)"
      ]
     },
     "execution_count": 39,
     "metadata": {},
     "output_type": "execute_result"
    }
   ],
   "source": [
    "newdfs = []\n",
    "\n",
    "for year, df in data.groupby('consensus_earliest_date'):\n",
    "    df = df.loc[ : , ['resonance_0.05_25', 'resonance_1.0_25', \n",
    "                      'novelty_0.05_25', 'novelty_1.0_25',\n",
    "                      'transience_0.05_25', 'transience_1.0_25']]\n",
    "    df = df.apply(zscore)\n",
    "    newdfs.append(df)\n",
    "\n",
    "newvalues = pd.concat(newdfs)\n",
    "newvalues.shape"
   ]
  },
  {
   "cell_type": "code",
   "execution_count": 40,
   "id": "0dca1bf7-fa3c-4933-a41c-2ef656f54d92",
   "metadata": {},
   "outputs": [
    {
     "data": {
      "text/html": [
       "<div>\n",
       "<style scoped>\n",
       "    .dataframe tbody tr th:only-of-type {\n",
       "        vertical-align: middle;\n",
       "    }\n",
       "\n",
       "    .dataframe tbody tr th {\n",
       "        vertical-align: top;\n",
       "    }\n",
       "\n",
       "    .dataframe thead th {\n",
       "        text-align: right;\n",
       "    }\n",
       "</style>\n",
       "<table border=\"1\" class=\"dataframe\">\n",
       "  <thead>\n",
       "    <tr style=\"text-align: right;\">\n",
       "      <th></th>\n",
       "      <th>resonance_0.05_25</th>\n",
       "      <th>resonance_1.0_25</th>\n",
       "      <th>novelty_0.05_25</th>\n",
       "      <th>novelty_1.0_25</th>\n",
       "      <th>transience_0.05_25</th>\n",
       "      <th>transience_1.0_25</th>\n",
       "    </tr>\n",
       "  </thead>\n",
       "  <tbody>\n",
       "    <tr>\n",
       "      <th>11</th>\n",
       "      <td>0.056625</td>\n",
       "      <td>0.063409</td>\n",
       "      <td>-1.096178</td>\n",
       "      <td>-0.979547</td>\n",
       "      <td>-0.986289</td>\n",
       "      <td>-0.900619</td>\n",
       "    </tr>\n",
       "    <tr>\n",
       "      <th>12</th>\n",
       "      <td>0.791459</td>\n",
       "      <td>0.429693</td>\n",
       "      <td>1.291830</td>\n",
       "      <td>2.093023</td>\n",
       "      <td>0.773486</td>\n",
       "      <td>1.740010</td>\n",
       "    </tr>\n",
       "    <tr>\n",
       "      <th>13</th>\n",
       "      <td>0.397099</td>\n",
       "      <td>0.236740</td>\n",
       "      <td>0.617966</td>\n",
       "      <td>0.246130</td>\n",
       "      <td>0.361629</td>\n",
       "      <td>0.143874</td>\n",
       "    </tr>\n",
       "    <tr>\n",
       "      <th>14</th>\n",
       "      <td>-0.945323</td>\n",
       "      <td>-0.749332</td>\n",
       "      <td>-0.815992</td>\n",
       "      <td>-0.501827</td>\n",
       "      <td>-0.286773</td>\n",
       "      <td>-0.206358</td>\n",
       "    </tr>\n",
       "    <tr>\n",
       "      <th>15</th>\n",
       "      <td>0.500557</td>\n",
       "      <td>0.213964</td>\n",
       "      <td>-1.072164</td>\n",
       "      <td>-1.171390</td>\n",
       "      <td>-1.166387</td>\n",
       "      <td>-1.122065</td>\n",
       "    </tr>\n",
       "  </tbody>\n",
       "</table>\n",
       "</div>"
      ],
      "text/plain": [
       "    resonance_0.05_25  resonance_1.0_25  novelty_0.05_25  novelty_1.0_25  \\\n",
       "11           0.056625          0.063409        -1.096178       -0.979547   \n",
       "12           0.791459          0.429693         1.291830        2.093023   \n",
       "13           0.397099          0.236740         0.617966        0.246130   \n",
       "14          -0.945323         -0.749332        -0.815992       -0.501827   \n",
       "15           0.500557          0.213964        -1.072164       -1.171390   \n",
       "\n",
       "    transience_0.05_25  transience_1.0_25  \n",
       "11           -0.986289          -0.900619  \n",
       "12            0.773486           1.740010  \n",
       "13            0.361629           0.143874  \n",
       "14           -0.286773          -0.206358  \n",
       "15           -1.166387          -1.122065  "
      ]
     },
     "execution_count": 40,
     "metadata": {},
     "output_type": "execute_result"
    }
   ],
   "source": [
    "newvalues.head()"
   ]
  },
  {
   "cell_type": "code",
   "execution_count": 41,
   "id": "3b6721c0-983b-4964-87c0-1e9482864195",
   "metadata": {},
   "outputs": [],
   "source": [
    "for column in ['resonance_0.05_25', 'resonance_1.0_25', 'novelty_0.05_25', \n",
    "               'novelty_1.0_25', 'transience_0.05_25', 'transience_1.0_25']:\n",
    "    data[column] = newvalues[column]  # and we trust the index will reorder values        "
   ]
  },
  {
   "cell_type": "code",
   "execution_count": 42,
   "id": "de32ba0f-f16f-4d80-a646-b983ed12dd29",
   "metadata": {},
   "outputs": [
    {
     "data": {
      "text/html": [
       "<div>\n",
       "<style scoped>\n",
       "    .dataframe tbody tr th:only-of-type {\n",
       "        vertical-align: middle;\n",
       "    }\n",
       "\n",
       "    .dataframe tbody tr th {\n",
       "        vertical-align: top;\n",
       "    }\n",
       "\n",
       "    .dataframe thead th {\n",
       "        text-align: right;\n",
       "    }\n",
       "</style>\n",
       "<table border=\"1\" class=\"dataframe\">\n",
       "  <thead>\n",
       "    <tr style=\"text-align: right;\">\n",
       "      <th></th>\n",
       "      <th>docid</th>\n",
       "      <th>author</th>\n",
       "      <th>title</th>\n",
       "      <th>latestcomp</th>\n",
       "      <th>in_topic_model</th>\n",
       "      <th>hathi_author</th>\n",
       "      <th>hathi_title</th>\n",
       "      <th>topicmodel_firstpub</th>\n",
       "      <th>birthyear</th>\n",
       "      <th>us_national</th>\n",
       "      <th>...</th>\n",
       "      <th>Christian Science Monitor</th>\n",
       "      <th>Book Week</th>\n",
       "      <th>Manchester Guardian</th>\n",
       "      <th>is_average</th>\n",
       "      <th>novelty_1.0_25</th>\n",
       "      <th>novelty_0.05_25</th>\n",
       "      <th>transience_1.0_25</th>\n",
       "      <th>transience_0.05_25</th>\n",
       "      <th>resonance_1.0_25</th>\n",
       "      <th>resonance_0.05_25</th>\n",
       "    </tr>\n",
       "  </thead>\n",
       "  <tbody>\n",
       "    <tr>\n",
       "      <th>0</th>\n",
       "      <td>mdp.39015059414725</td>\n",
       "      <td>McKenna, Stephen</td>\n",
       "      <td>Lady Lilith, | a novel: Beong the first part o...</td>\n",
       "      <td>1967.0</td>\n",
       "      <td>False</td>\n",
       "      <td>NaN</td>\n",
       "      <td>NaN</td>\n",
       "      <td>NaN</td>\n",
       "      <td>NaN</td>\n",
       "      <td>NaN</td>\n",
       "      <td>...</td>\n",
       "      <td>0.0</td>\n",
       "      <td>0.0</td>\n",
       "      <td>0.0</td>\n",
       "      <td>False</td>\n",
       "      <td>-0.837610</td>\n",
       "      <td>-1.231565</td>\n",
       "      <td>-0.969434</td>\n",
       "      <td>-1.329334</td>\n",
       "      <td>0.784415</td>\n",
       "      <td>0.590292</td>\n",
       "    </tr>\n",
       "    <tr>\n",
       "      <th>1</th>\n",
       "      <td>wu.89099437782</td>\n",
       "      <td>France, Anatole</td>\n",
       "      <td>The authorized English translations of the nov...</td>\n",
       "      <td>1924.0</td>\n",
       "      <td>False</td>\n",
       "      <td>NaN</td>\n",
       "      <td>NaN</td>\n",
       "      <td>NaN</td>\n",
       "      <td>NaN</td>\n",
       "      <td>NaN</td>\n",
       "      <td>...</td>\n",
       "      <td>0.0</td>\n",
       "      <td>0.0</td>\n",
       "      <td>0.0</td>\n",
       "      <td>False</td>\n",
       "      <td>1.630684</td>\n",
       "      <td>0.647925</td>\n",
       "      <td>1.945296</td>\n",
       "      <td>1.122691</td>\n",
       "      <td>-1.957325</td>\n",
       "      <td>-1.617604</td>\n",
       "    </tr>\n",
       "    <tr>\n",
       "      <th>2</th>\n",
       "      <td>nyp.33433076075344</td>\n",
       "      <td>Lynd, Sylvia</td>\n",
       "      <td>The chorus : | a tale of love and folly / | $c...</td>\n",
       "      <td>1952.0</td>\n",
       "      <td>False</td>\n",
       "      <td>NaN</td>\n",
       "      <td>NaN</td>\n",
       "      <td>NaN</td>\n",
       "      <td>NaN</td>\n",
       "      <td>NaN</td>\n",
       "      <td>...</td>\n",
       "      <td>0.0</td>\n",
       "      <td>0.0</td>\n",
       "      <td>0.0</td>\n",
       "      <td>False</td>\n",
       "      <td>-1.338172</td>\n",
       "      <td>-1.724790</td>\n",
       "      <td>-1.387977</td>\n",
       "      <td>-1.760478</td>\n",
       "      <td>0.262475</td>\n",
       "      <td>0.318576</td>\n",
       "    </tr>\n",
       "    <tr>\n",
       "      <th>3</th>\n",
       "      <td>uc1.$b797656</td>\n",
       "      <td>Rinehart, Mary Roberts</td>\n",
       "      <td>The romantics, | $c: by Mary Roberts Rinehart.</td>\n",
       "      <td>1958.0</td>\n",
       "      <td>True</td>\n",
       "      <td>Rinehart, Mary Roberts</td>\n",
       "      <td>The romantics</td>\n",
       "      <td>1929.0</td>\n",
       "      <td>1876.0</td>\n",
       "      <td>True</td>\n",
       "      <td>...</td>\n",
       "      <td>0.0</td>\n",
       "      <td>0.0</td>\n",
       "      <td>0.0</td>\n",
       "      <td>True</td>\n",
       "      <td>-0.368822</td>\n",
       "      <td>-0.039531</td>\n",
       "      <td>-0.691400</td>\n",
       "      <td>-0.372929</td>\n",
       "      <td>1.134355</td>\n",
       "      <td>0.652539</td>\n",
       "    </tr>\n",
       "    <tr>\n",
       "      <th>4</th>\n",
       "      <td>pst.000006681135</td>\n",
       "      <td>Housman, Laurence</td>\n",
       "      <td>Uncle Tomm Pudd.</td>\n",
       "      <td>1959.0</td>\n",
       "      <td>False</td>\n",
       "      <td>NaN</td>\n",
       "      <td>NaN</td>\n",
       "      <td>NaN</td>\n",
       "      <td>NaN</td>\n",
       "      <td>NaN</td>\n",
       "      <td>...</td>\n",
       "      <td>0.0</td>\n",
       "      <td>0.0</td>\n",
       "      <td>0.0</td>\n",
       "      <td>False</td>\n",
       "      <td>-0.644001</td>\n",
       "      <td>-0.633428</td>\n",
       "      <td>-0.466177</td>\n",
       "      <td>-0.367574</td>\n",
       "      <td>-0.464920</td>\n",
       "      <td>-0.492350</td>\n",
       "    </tr>\n",
       "    <tr>\n",
       "      <th>5</th>\n",
       "      <td>pst.000061539273</td>\n",
       "      <td>Kipling, Rudyard</td>\n",
       "      <td>Tales of Rudyard Kipling.</td>\n",
       "      <td>1936.0</td>\n",
       "      <td>True</td>\n",
       "      <td>Kipling, Rudyard</td>\n",
       "      <td>Tales of Rudyard Kipling</td>\n",
       "      <td>1928.0</td>\n",
       "      <td>1865.0</td>\n",
       "      <td>False</td>\n",
       "      <td>...</td>\n",
       "      <td>0.0</td>\n",
       "      <td>0.0</td>\n",
       "      <td>0.0</td>\n",
       "      <td>True</td>\n",
       "      <td>-0.118318</td>\n",
       "      <td>0.455830</td>\n",
       "      <td>0.076343</td>\n",
       "      <td>0.617630</td>\n",
       "      <td>-0.625114</td>\n",
       "      <td>-0.448283</td>\n",
       "    </tr>\n",
       "    <tr>\n",
       "      <th>6</th>\n",
       "      <td>uc1.$b322904</td>\n",
       "      <td>Aiken, Conrad</td>\n",
       "      <td>Costumes | $c: by Eros</td>\n",
       "      <td>1973.0</td>\n",
       "      <td>True</td>\n",
       "      <td>Aiken, Conrad</td>\n",
       "      <td>Costumes</td>\n",
       "      <td>1973.0</td>\n",
       "      <td>1889.0</td>\n",
       "      <td>False</td>\n",
       "      <td>...</td>\n",
       "      <td>0.0</td>\n",
       "      <td>0.0</td>\n",
       "      <td>0.0</td>\n",
       "      <td>False</td>\n",
       "      <td>-0.297872</td>\n",
       "      <td>-0.110027</td>\n",
       "      <td>-0.684045</td>\n",
       "      <td>-0.633240</td>\n",
       "      <td>1.345579</td>\n",
       "      <td>1.208647</td>\n",
       "    </tr>\n",
       "  </tbody>\n",
       "</table>\n",
       "<p>7 rows × 62 columns</p>\n",
       "</div>"
      ],
      "text/plain": [
       "                docid                  author  \\\n",
       "0  mdp.39015059414725        McKenna, Stephen   \n",
       "1      wu.89099437782         France, Anatole   \n",
       "2  nyp.33433076075344            Lynd, Sylvia   \n",
       "3        uc1.$b797656  Rinehart, Mary Roberts   \n",
       "4    pst.000006681135       Housman, Laurence   \n",
       "5    pst.000061539273        Kipling, Rudyard   \n",
       "6        uc1.$b322904           Aiken, Conrad   \n",
       "\n",
       "                                               title  latestcomp  \\\n",
       "0  Lady Lilith, | a novel: Beong the first part o...      1967.0   \n",
       "1  The authorized English translations of the nov...      1924.0   \n",
       "2  The chorus : | a tale of love and folly / | $c...      1952.0   \n",
       "3     The romantics, | $c: by Mary Roberts Rinehart.      1958.0   \n",
       "4                                   Uncle Tomm Pudd.      1959.0   \n",
       "5                          Tales of Rudyard Kipling.      1936.0   \n",
       "6                             Costumes | $c: by Eros      1973.0   \n",
       "\n",
       "   in_topic_model            hathi_author               hathi_title  \\\n",
       "0           False                     NaN                       NaN   \n",
       "1           False                     NaN                       NaN   \n",
       "2           False                     NaN                       NaN   \n",
       "3            True  Rinehart, Mary Roberts             The romantics   \n",
       "4           False                     NaN                       NaN   \n",
       "5            True        Kipling, Rudyard  Tales of Rudyard Kipling   \n",
       "6            True           Aiken, Conrad                  Costumes   \n",
       "\n",
       "   topicmodel_firstpub  birthyear us_national  ... Christian Science Monitor  \\\n",
       "0                  NaN        NaN         NaN  ...                       0.0   \n",
       "1                  NaN        NaN         NaN  ...                       0.0   \n",
       "2                  NaN        NaN         NaN  ...                       0.0   \n",
       "3               1929.0     1876.0        True  ...                       0.0   \n",
       "4                  NaN        NaN         NaN  ...                       0.0   \n",
       "5               1928.0     1865.0       False  ...                       0.0   \n",
       "6               1973.0     1889.0       False  ...                       0.0   \n",
       "\n",
       "   Book Week  Manchester Guardian  is_average  novelty_1.0_25  \\\n",
       "0        0.0                  0.0       False       -0.837610   \n",
       "1        0.0                  0.0       False        1.630684   \n",
       "2        0.0                  0.0       False       -1.338172   \n",
       "3        0.0                  0.0        True       -0.368822   \n",
       "4        0.0                  0.0       False       -0.644001   \n",
       "5        0.0                  0.0        True       -0.118318   \n",
       "6        0.0                  0.0       False       -0.297872   \n",
       "\n",
       "   novelty_0.05_25  transience_1.0_25  transience_0.05_25  resonance_1.0_25  \\\n",
       "0        -1.231565          -0.969434           -1.329334          0.784415   \n",
       "1         0.647925           1.945296            1.122691         -1.957325   \n",
       "2        -1.724790          -1.387977           -1.760478          0.262475   \n",
       "3        -0.039531          -0.691400           -0.372929          1.134355   \n",
       "4        -0.633428          -0.466177           -0.367574         -0.464920   \n",
       "5         0.455830           0.076343            0.617630         -0.625114   \n",
       "6        -0.110027          -0.684045           -0.633240          1.345579   \n",
       "\n",
       "   resonance_0.05_25  \n",
       "0           0.590292  \n",
       "1          -1.617604  \n",
       "2           0.318576  \n",
       "3           0.652539  \n",
       "4          -0.492350  \n",
       "5          -0.448283  \n",
       "6           1.208647  \n",
       "\n",
       "[7 rows x 62 columns]"
      ]
     },
     "execution_count": 42,
     "metadata": {},
     "output_type": "execute_result"
    }
   ],
   "source": [
    "data.head(7)"
   ]
  },
  {
   "cell_type": "code",
   "execution_count": 43,
   "id": "2abe8b72-8c46-488f-88dc-384c11cbedb0",
   "metadata": {},
   "outputs": [
    {
     "data": {
      "text/plain": [
       "PearsonRResult(statistic=0.17376221772275618, pvalue=6.644167781616413e-64)"
      ]
     },
     "execution_count": 43,
     "metadata": {},
     "output_type": "execute_result"
    }
   ],
   "source": [
    "pearsonr(data['novelty_0.05_25'], data['resonance_0.05_25'])"
   ]
  },
  {
   "cell_type": "code",
   "execution_count": 94,
   "id": "1dacf288-6651-40a2-ae1b-bc6eeaad07e7",
   "metadata": {},
   "outputs": [
    {
     "data": {
      "text/plain": [
       "(0.915821860241009, 0.0)"
      ]
     },
     "execution_count": 94,
     "metadata": {},
     "output_type": "execute_result"
    }
   ],
   "source": [
    "pearsonr(data['novelty_0.05_25'], data['transience_0.05_25'])"
   ]
  },
  {
   "cell_type": "code",
   "execution_count": 44,
   "id": "db7e7a84-2e89-424f-9ec0-2d5da546d6f4",
   "metadata": {},
   "outputs": [
    {
     "data": {
      "text/plain": [
       "PearsonRResult(statistic=-0.22614848480805802, pvalue=4.451504658672003e-108)"
      ]
     },
     "execution_count": 44,
     "metadata": {},
     "output_type": "execute_result"
    }
   ],
   "source": [
    "pearsonr(data['transience_0.05_25'], data['resonance_0.05_25'])"
   ]
  },
  {
   "cell_type": "markdown",
   "id": "3e5181ba-aea5-4252-acbd-2532fc94165f",
   "metadata": {},
   "source": [
    "### Prizewinners and bestsellers: precocity\n",
    "\n",
    "We comapre all prizewinners to all \"average\" books that are not prizewinners."
   ]
  },
  {
   "cell_type": "code",
   "execution_count": 45,
   "id": "f4d7e530-f33d-4b43-9ab2-8b7ecf1f6c1a",
   "metadata": {},
   "outputs": [],
   "source": [
    "prizewinners = data.loc[data.is_prize_author == True, 'resonance_0.05_25']\n",
    "not_prize = data.loc[(data.is_prize_author == False) & (data.is_average == True), 'resonance_0.05_25']"
   ]
  },
  {
   "cell_type": "code",
   "execution_count": 46,
   "id": "83b0c8dd-81f5-480a-a5f7-0caf9f8595a1",
   "metadata": {},
   "outputs": [
    {
     "name": "stdout",
     "output_type": "stream",
     "text": [
      "475 874\n"
     ]
    },
    {
     "data": {
      "text/plain": [
       "TtestResult(statistic=2.6518384925456613, pvalue=0.00809944677732848, df=1347.0)"
      ]
     },
     "execution_count": 46,
     "metadata": {},
     "output_type": "execute_result"
    }
   ],
   "source": [
    "print(len(prizewinners), len(not_prize))\n",
    "ttest_ind(prizewinners, not_prize)"
   ]
  },
  {
   "cell_type": "markdown",
   "id": "a1d137d0-3b17-45f4-bf59-1090a37fea57",
   "metadata": {},
   "source": [
    "Definitely significant. A more interpretable measure of effect size is Cohen's *d*."
   ]
  },
  {
   "cell_type": "code",
   "execution_count": 47,
   "id": "1387e2fd-84a4-4c90-a998-34218c1b3deb",
   "metadata": {},
   "outputs": [],
   "source": [
    "def cohens_d(a, b):\n",
    "    cohens_d = (mean(a) - mean(b)) / (sqrt((stdev(a) ** 2 + stdev(b) ** 2) / 2))\n",
    "    return cohens_d"
   ]
  },
  {
   "cell_type": "code",
   "execution_count": 48,
   "id": "81b691a1-0e12-4a3d-b7f3-c149b2c646a7",
   "metadata": {},
   "outputs": [
    {
     "data": {
      "text/plain": [
       "0.15393326313196934"
      ]
     },
     "execution_count": 48,
     "metadata": {},
     "output_type": "execute_result"
    }
   ],
   "source": [
    "cohens_d(prizewinners, not_prize)"
   ]
  },
  {
   "cell_type": "markdown",
   "id": "856a6dd6-a60b-433c-ba90-851a04249482",
   "metadata": {},
   "source": [
    "**Now let's do bestsellers.**"
   ]
  },
  {
   "cell_type": "code",
   "execution_count": 49,
   "id": "0aaaa3d7-f516-4376-9118-7f5d0b643544",
   "metadata": {},
   "outputs": [],
   "source": [
    "bestsellers = data.loc[data.is_bestseller == True, 'resonance_0.05_25']\n",
    "not_best = data.loc[(data.is_bestseller == False) & (data.is_average == True), 'resonance_0.05_25']"
   ]
  },
  {
   "cell_type": "code",
   "execution_count": 50,
   "id": "ac0f14b6-2065-4c7d-9c82-8435363d6c75",
   "metadata": {},
   "outputs": [
    {
     "name": "stdout",
     "output_type": "stream",
     "text": [
      "282\n"
     ]
    },
    {
     "data": {
      "text/plain": [
       "0.25863336366806133"
      ]
     },
     "execution_count": 50,
     "metadata": {},
     "output_type": "execute_result"
    }
   ],
   "source": [
    "print(len(bestsellers))\n",
    "cohens_d(bestsellers, not_best)"
   ]
  },
  {
   "cell_type": "markdown",
   "id": "b5379faf-2c1f-4b67-bd48-a9ed59119373",
   "metadata": {},
   "source": [
    "Higher than the prizewinners."
   ]
  },
  {
   "cell_type": "markdown",
   "id": "b4c78e97-a0d2-4422-8b58-5895690fa203",
   "metadata": {},
   "source": [
    "But the difference between bestsellers and prizewinners isn't statistically significant."
   ]
  },
  {
   "cell_type": "code",
   "execution_count": 51,
   "id": "2a880360-2601-40b7-b284-300bb574fa0b",
   "metadata": {},
   "outputs": [
    {
     "data": {
      "text/plain": [
       "TtestResult(statistic=1.4024607996833431, pvalue=0.1611887265123303, df=755.0)"
      ]
     },
     "execution_count": 51,
     "metadata": {},
     "output_type": "execute_result"
    }
   ],
   "source": [
    "ttest_ind(bestsellers, prizewinners)"
   ]
  },
  {
   "cell_type": "markdown",
   "id": "849fa899-4078-4f1a-9727-fdae4ddcd502",
   "metadata": {},
   "source": [
    "**Let's check the effect size if we use 100% of the books.**"
   ]
  },
  {
   "cell_type": "code",
   "execution_count": 52,
   "id": "e4c1713a-9bab-4233-8a01-bb10e1f37163",
   "metadata": {},
   "outputs": [
    {
     "data": {
      "text/plain": [
       "0.04254594632615005"
      ]
     },
     "execution_count": 52,
     "metadata": {},
     "output_type": "execute_result"
    }
   ],
   "source": [
    "prizewinners_100 = data.loc[data.is_prize_author == True, 'resonance_1.0_25']\n",
    "not_prize_100 = data.loc[(data.is_prize_author == False) & (data.is_average == True), 'resonance_1.0_25']\n",
    "cohens_d(prizewinners_100, not_prize_100)"
   ]
  },
  {
   "cell_type": "markdown",
   "id": "4f8c3c6e-5d64-4cb0-9c3b-3b26ea2dc525",
   "metadata": {},
   "source": [
    "Much lower for prizewinners."
   ]
  },
  {
   "cell_type": "code",
   "execution_count": 53,
   "id": "247fcd5b-d5fb-4434-918d-0b5f6ab386a4",
   "metadata": {},
   "outputs": [
    {
     "data": {
      "text/plain": [
       "0.24798772178522002"
      ]
     },
     "execution_count": 53,
     "metadata": {},
     "output_type": "execute_result"
    }
   ],
   "source": [
    "best_100 = data.loc[data.is_bestseller == True, 'resonance_1.0_25']\n",
    "not_best_100 = data.loc[(data.is_bestseller == False) & (data.is_average == True), 'resonance_1.0_25']\n",
    "cohens_d(best_100, not_best_100)"
   ]
  },
  {
   "cell_type": "markdown",
   "id": "8a576b59-02e3-48fb-a945-2307e85c4223",
   "metadata": {},
   "source": [
    "Bestseller effect size persists if we use all the books."
   ]
  },
  {
   "cell_type": "markdown",
   "id": "1eff9cc4-d616-439d-a002-30ead46f6b74",
   "metadata": {},
   "source": [
    "### Being reviewed at all"
   ]
  },
  {
   "cell_type": "code",
   "execution_count": 54,
   "id": "cb552a0d-3e69-4199-8af1-bc3006f9d6a4",
   "metadata": {},
   "outputs": [
    {
     "name": "stdout",
     "output_type": "stream",
     "text": [
      "8222\n"
     ]
    },
    {
     "data": {
      "text/plain": [
       "0.2676828021226414"
      ]
     },
     "execution_count": 54,
     "metadata": {},
     "output_type": "execute_result"
    }
   ],
   "source": [
    "inBRD = data.loc[data.in_BRD == True, 'resonance_0.05_25']\n",
    "notinBRD = data.loc[(data.in_BRD == False) & (data.is_average == True), 'resonance_0.05_25']\n",
    "print(len(inBRD))\n",
    "cohens_d(inBRD, notinBRD)"
   ]
  },
  {
   "cell_type": "markdown",
   "id": "0ed3e514-8f8b-4204-aeb2-5d83ae90ed29",
   "metadata": {},
   "source": [
    "### Prizewinner and bestsellers: novelty\n",
    "\n",
    "Does novelty follow the same pattern?"
   ]
  },
  {
   "cell_type": "code",
   "execution_count": 55,
   "id": "89ec5e22-f4d2-46ea-add0-8ec951cad12f",
   "metadata": {},
   "outputs": [
    {
     "data": {
      "text/plain": [
       "-0.22342143681238338"
      ]
     },
     "execution_count": 55,
     "metadata": {},
     "output_type": "execute_result"
    }
   ],
   "source": [
    "prize_nov = data.loc[data.is_prize_author == True, 'novelty_0.05_25']\n",
    "not_prize_nov = data.loc[data.is_prize_author == False & (data.is_average == True), 'novelty_0.05_25']\n",
    "cohens_d(prize_nov, not_prize_nov)"
   ]
  },
  {
   "cell_type": "code",
   "execution_count": 56,
   "id": "0029a84e-cc16-452c-a77e-03805445f94d",
   "metadata": {},
   "outputs": [
    {
     "data": {
      "text/plain": [
       "TtestResult(statistic=-4.6445443867986285, pvalue=3.455092035363691e-06, df=9291.0)"
      ]
     },
     "execution_count": 56,
     "metadata": {},
     "output_type": "execute_result"
    }
   ],
   "source": [
    "ttest_ind(prize_nov, not_prize_nov)"
   ]
  },
  {
   "cell_type": "markdown",
   "id": "d748d236-a257-4c97-b0c5-f159f83e5a4e",
   "metadata": {},
   "source": [
    "Prizewinners are less novel than the average book!"
   ]
  },
  {
   "cell_type": "markdown",
   "id": "1f53014d-c1f4-4896-8ef2-7629993485a4",
   "metadata": {},
   "source": [
    "#### What about bestsellers?"
   ]
  },
  {
   "cell_type": "code",
   "execution_count": 57,
   "id": "6788a252-494d-453c-9658-606441287813",
   "metadata": {},
   "outputs": [
    {
     "data": {
      "text/plain": [
       "-0.37635997239275415"
      ]
     },
     "execution_count": 57,
     "metadata": {},
     "output_type": "execute_result"
    }
   ],
   "source": [
    "best_nov = data.loc[data.is_bestseller == True, 'novelty_0.05_25']\n",
    "not_best_nov = data.loc[data.is_bestseller == False & (data.is_average == True), 'novelty_0.05_25']\n",
    "cohens_d(best_nov, not_best_nov)"
   ]
  },
  {
   "cell_type": "code",
   "execution_count": 58,
   "id": "52bbb6fc-04b8-4976-8e16-00114a275828",
   "metadata": {},
   "outputs": [
    {
     "data": {
      "text/plain": [
       "TtestResult(statistic=-5.761186281702963, pvalue=8.618340965277197e-09, df=9291.0)"
      ]
     },
     "execution_count": 58,
     "metadata": {},
     "output_type": "execute_result"
    }
   ],
   "source": [
    "ttest_ind(best_nov, not_best_nov)"
   ]
  },
  {
   "cell_type": "markdown",
   "id": "5d3dd6e9-62f9-456f-af22-b86bc0177bc0",
   "metadata": {},
   "source": [
    "Bestsellers are extremely not-novel. This means that in order to exceed other books at precocity they must ..."
   ]
  },
  {
   "cell_type": "code",
   "execution_count": 59,
   "id": "c4f2d50b-23e0-4a5c-baab-61c0b67bf401",
   "metadata": {},
   "outputs": [
    {
     "data": {
      "text/plain": [
       "-0.4130160740230131"
      ]
     },
     "execution_count": 59,
     "metadata": {},
     "output_type": "execute_result"
    }
   ],
   "source": [
    "best_tra = data.loc[data.is_bestseller == True, 'transience_0.05_25']\n",
    "obscure_tra = data.loc[data.is_bestseller == False & (data.is_average == True), 'transience_0.05_25']\n",
    "cohens_d(best_tra, obscure_tra)"
   ]
  },
  {
   "cell_type": "markdown",
   "id": "99480914-d1cb-4368-a493-f0fe78dff425",
   "metadata": {},
   "source": [
    "... have even *lower* transience. Precocity is novelty minus transience.\n",
    "\n",
    "This sort of makes sense. We might expect bestsellers to be fairly conservative, sticking close to patterns that have succeeded in the past and will succeed in the future."
   ]
  },
  {
   "cell_type": "markdown",
   "id": "206dd869-a50b-4a62-a99e-6c52fd0ec616",
   "metadata": {},
   "source": [
    "### What about the retrospective avant-garde?"
   ]
  },
  {
   "cell_type": "code",
   "execution_count": 60,
   "id": "9feeea01-8426-4f50-b95d-f87c251685fd",
   "metadata": {},
   "outputs": [
    {
     "name": "stdout",
     "output_type": "stream",
     "text": [
      "48 896\n",
      "0.42464897344901126\n"
     ]
    },
    {
     "data": {
      "text/plain": [
       "TtestResult(statistic=2.6450012657720983, pvalue=0.008305051612528728, df=942.0)"
      ]
     },
     "execution_count": 60,
     "metadata": {},
     "output_type": "execute_result"
    }
   ],
   "source": [
    "retro = data.loc[data.is_retroavant == True, 'resonance_0.05_25']\n",
    "not_retro = data.loc[(data.is_retroavant == False) & (data.is_average == True), 'resonance_0.05_25']\n",
    "print(len(retro), len(not_retro))\n",
    "print(cohens_d(retro, not_retro))\n",
    "ttest_ind(retro, not_retro)"
   ]
  },
  {
   "cell_type": "markdown",
   "id": "3ec0ca7e-c419-4d89-8486-04bd2eb7dc3e",
   "metadata": {},
   "source": [
    "A moderately strong effect size."
   ]
  },
  {
   "cell_type": "code",
   "execution_count": 61,
   "id": "fd4dedda-85af-4645-93ae-3dcec2fa6681",
   "metadata": {},
   "outputs": [
    {
     "data": {
      "text/plain": [
       "-0.2682015610834447"
      ]
     },
     "execution_count": 61,
     "metadata": {},
     "output_type": "execute_result"
    }
   ],
   "source": [
    "retro_nov = data.loc[data.is_retroavant == True, 'novelty_0.05_25']\n",
    "not_retro_nov = data.loc[(data.is_retroavant == False) & (data.is_average == True), 'novelty_0.05_25']\n",
    "cohens_d(retro_nov, not_retro_nov)"
   ]
  },
  {
   "cell_type": "markdown",
   "id": "9e3edc79-536c-4bdc-9421-f23ba2dbb3dd",
   "metadata": {},
   "source": [
    "### Are in- and out-of-model volumes comparable?\n",
    "\n",
    "We'll use reviewed volumes in and out of the model. They should be more similar to each other than reviewed and unreviewed volumes."
   ]
  },
  {
   "cell_type": "code",
   "execution_count": 62,
   "id": "10355d4d-7660-4c04-b846-6daed29a6cbf",
   "metadata": {},
   "outputs": [
    {
     "name": "stdout",
     "output_type": "stream",
     "text": [
      "4070 4152\n"
     ]
    }
   ],
   "source": [
    "inmodel = data.loc[(data.in_BRD == True) & (data.in_topic_model == True), 'resonance_0.05_25']\n",
    "inferred = data.loc[(data.in_BRD == True) & (data.in_topic_model == False), 'resonance_0.05_25']\n",
    "print(len(inmodel), len(inferred))"
   ]
  },
  {
   "cell_type": "code",
   "execution_count": 63,
   "id": "99ff8a8e-c2ec-4622-b8f4-fcd4012a6357",
   "metadata": {},
   "outputs": [
    {
     "data": {
      "text/plain": [
       "TtestResult(statistic=-0.1261398740648503, pvalue=0.8996242895916349, df=8220.0)"
      ]
     },
     "execution_count": 63,
     "metadata": {},
     "output_type": "execute_result"
    }
   ],
   "source": [
    "ttest_ind(inmodel, inferred)"
   ]
  },
  {
   "cell_type": "markdown",
   "id": "6eafb11c-71a4-4484-a3c5-d1a9260a3303",
   "metadata": {},
   "source": [
    "Yes, they are comparable."
   ]
  },
  {
   "cell_type": "markdown",
   "id": "e3392666-5595-4e66-9ba1-536d52c34c1b",
   "metadata": {},
   "source": [
    "### Review wordcount and sentiment\n",
    "\n",
    "Wordcount is easy to compare, sentiment a little trickier.\n",
    "\n",
    "We start by taking the Spearman correlation of precocity with wordcount. We're doing this only across reviewed books."
   ]
  },
  {
   "cell_type": "code",
   "execution_count": 64,
   "id": "0b0f961b-1cbf-460f-a9ef-058d84fc2686",
   "metadata": {},
   "outputs": [
    {
     "data": {
      "text/plain": [
       "SignificanceResult(statistic=0.0929929310568826, pvalue=2.933365717309773e-17)"
      ]
     },
     "execution_count": 64,
     "metadata": {},
     "output_type": "execute_result"
    }
   ],
   "source": [
    "reviewed_data = data.loc[data['review_wordcount']> 0, :]\n",
    "\n",
    "spearmanr(reviewed_data['resonance_0.05_25'], reviewed_data['review_wordcount'])"
   ]
  },
  {
   "cell_type": "markdown",
   "id": "505baf83-fed4-4b69-af1c-e39e54946a68",
   "metadata": {},
   "source": [
    "Cohen's $d = \\frac{2 * r}{\\sqrt{1 - r^2}}$"
   ]
  },
  {
   "cell_type": "code",
   "execution_count": 65,
   "id": "aa10c3b7-7edc-4ef9-8dcd-dcfdcbaee44d",
   "metadata": {},
   "outputs": [],
   "source": [
    "def r2d(r):\n",
    "    d = (2*r) / sqrt(1 - r**2)\n",
    "    return d"
   ]
  },
  {
   "cell_type": "code",
   "execution_count": 66,
   "id": "26a6c5eb-6ec2-4ccd-a734-83ee1356ecd8",
   "metadata": {},
   "outputs": [
    {
     "data": {
      "text/plain": [
       "0.18680961255590703"
      ]
     },
     "execution_count": 66,
     "metadata": {},
     "output_type": "execute_result"
    }
   ],
   "source": [
    "r2d(.093)"
   ]
  },
  {
   "cell_type": "markdown",
   "id": "767078b6-326a-400d-8598-c31f95abab60",
   "metadata": {},
   "source": [
    "What happens if we consider unreviewed books as zero wordcount?"
   ]
  },
  {
   "cell_type": "code",
   "execution_count": 67,
   "id": "43726b76-ed5e-427f-a441-85d542354e93",
   "metadata": {},
   "outputs": [],
   "source": [
    "reviewed_data_with_zeroes = data.loc[(data['review_wordcount']> 0) | \n",
    "                                     (data.review_comparison == 'unreviewed_tm_sample'), :]"
   ]
  },
  {
   "cell_type": "code",
   "execution_count": 68,
   "id": "5ea942a5-a3fd-4585-8796-ffc3948c9260",
   "metadata": {},
   "outputs": [
    {
     "data": {
      "text/plain": [
       "SignificanceResult(statistic=0.10924947561595938, pvalue=3.467989290206453e-25)"
      ]
     },
     "execution_count": 68,
     "metadata": {},
     "output_type": "execute_result"
    }
   ],
   "source": [
    "spearmanr(reviewed_data_with_zeroes['resonance_0.05_25'], reviewed_data_with_zeroes['review_wordcount'])"
   ]
  },
  {
   "cell_type": "code",
   "execution_count": 69,
   "id": "9e97c54c-5899-42ff-ae40-f09495ee41dd",
   "metadata": {},
   "outputs": [
    {
     "data": {
      "text/plain": [
       "0.21981575015211152"
      ]
     },
     "execution_count": 69,
     "metadata": {},
     "output_type": "execute_result"
    }
   ],
   "source": [
    "r2d(.10925)"
   ]
  },
  {
   "cell_type": "code",
   "execution_count": 70,
   "id": "648c890d-f718-4dae-a9cd-862854901fab",
   "metadata": {},
   "outputs": [
    {
     "data": {
      "text/plain": [
       "SignificanceResult(statistic=-0.15991052652480653, pvalue=2.2895983031696743e-52)"
      ]
     },
     "execution_count": 70,
     "metadata": {},
     "output_type": "execute_result"
    }
   ],
   "source": [
    "\n",
    "spearmanr(reviewed_data_with_zeroes['novelty_0.05_25'], reviewed_data_with_zeroes['review_wordcount'])"
   ]
  },
  {
   "cell_type": "code",
   "execution_count": 71,
   "id": "431e7bb3-fd5f-4180-b84e-a5e85d13cc3a",
   "metadata": {},
   "outputs": [
    {
     "data": {
      "text/plain": [
       "-0.3239684311919988"
      ]
     },
     "execution_count": 71,
     "metadata": {},
     "output_type": "execute_result"
    }
   ],
   "source": [
    "r2d(-0.1599)"
   ]
  },
  {
   "cell_type": "markdown",
   "id": "241d600b-da48-4ba7-82df-ef5b2f1fa68f",
   "metadata": {},
   "source": [
    "What if we use all the data?"
   ]
  },
  {
   "cell_type": "code",
   "execution_count": 72,
   "id": "d23d9b38-d408-48d8-bdec-88d9c79173c9",
   "metadata": {},
   "outputs": [
    {
     "data": {
      "text/plain": [
       "SignificanceResult(statistic=-0.027434698504648407, pvalue=0.012855840690158644)"
      ]
     },
     "execution_count": 72,
     "metadata": {},
     "output_type": "execute_result"
    }
   ],
   "source": [
    "spearmanr(reviewed_data['resonance_1.0_25'], reviewed_data['review_wordcount'])"
   ]
  },
  {
   "cell_type": "markdown",
   "id": "9b70f504-c745-4cc9-9c14-e63e1f75d0e4",
   "metadata": {},
   "source": [
    "**Association of novelty with wordcount.**"
   ]
  },
  {
   "cell_type": "code",
   "execution_count": 73,
   "id": "3db65bf4-636a-4fdd-b975-09f707a6400f",
   "metadata": {},
   "outputs": [
    {
     "data": {
      "text/plain": [
       "SignificanceResult(statistic=-0.14287774066514, pvalue=9.373463937390389e-39)"
      ]
     },
     "execution_count": 73,
     "metadata": {},
     "output_type": "execute_result"
    }
   ],
   "source": [
    "spearmanr(reviewed_data['novelty_0.05_25'], reviewed_data['review_wordcount'])"
   ]
  },
  {
   "cell_type": "markdown",
   "id": "b7d6d134-c3a5-4e23-ab39-8d38b56400ec",
   "metadata": {},
   "source": [
    "Very novel books are **less** likely to have a lot written about them. Reviewed books have a lot of precocity because they nevertheless tend to resemble the future. In other words, transience is still low enough to make precocity positive."
   ]
  },
  {
   "cell_type": "code",
   "execution_count": 74,
   "id": "1d7df670-aa75-4a6c-8c75-7027e8b2fdfc",
   "metadata": {},
   "outputs": [
    {
     "data": {
      "text/plain": [
       "SignificanceResult(statistic=-0.17958798740439658, pvalue=1.48562531652504e-60)"
      ]
     },
     "execution_count": 74,
     "metadata": {},
     "output_type": "execute_result"
    }
   ],
   "source": [
    "spearmanr(reviewed_data['transience_0.05_25'], reviewed_data['review_wordcount'])"
   ]
  },
  {
   "cell_type": "markdown",
   "id": "74e37248-7e87-4e27-ab63-5471afdc73bb",
   "metadata": {},
   "source": [
    "**Now sentiment.** Sentiment is a little trickier because it doesn't make sense to treat the sentiment of unreviewed books as zero. So we have to actually select a subset where sentiment is non-null -- i.e. the subset of reviewed books."
   ]
  },
  {
   "cell_type": "code",
   "execution_count": 75,
   "id": "41f12aaf-6a30-42a1-bea6-1d1590570dd9",
   "metadata": {},
   "outputs": [
    {
     "data": {
      "text/plain": [
       "SignificanceResult(statistic=-0.04325245027292856, pvalue=8.739286419562799e-05)"
      ]
     },
     "execution_count": 75,
     "metadata": {},
     "output_type": "execute_result"
    }
   ],
   "source": [
    "spearmanr(reviewed_data['resonance_0.05_25'], reviewed_data['review_sentiment'])"
   ]
  },
  {
   "cell_type": "markdown",
   "id": "a429c85c-699c-4d56-a8c5-c3c0056421fd",
   "metadata": {},
   "source": [
    "A weak *negative* correlation with resonance. But there are many reasons to be suspicious of sentiment measures. Note for instance that sentiment correlates *inversely* with wordcount."
   ]
  },
  {
   "cell_type": "code",
   "execution_count": 76,
   "id": "c3d584a2-14f7-4103-a0a8-6c52a9e893d6",
   "metadata": {},
   "outputs": [
    {
     "data": {
      "text/plain": [
       "-0.08658101550428185"
      ]
     },
     "execution_count": 76,
     "metadata": {},
     "output_type": "execute_result"
    }
   ],
   "source": [
    "r2d(-0.04325)"
   ]
  },
  {
   "cell_type": "code",
   "execution_count": 77,
   "id": "142c4c73-c33e-47f8-9616-e6f942462e06",
   "metadata": {},
   "outputs": [
    {
     "data": {
      "text/plain": [
       "SignificanceResult(statistic=0.13868529130413243, pvalue=1.3624448040381854e-36)"
      ]
     },
     "execution_count": 77,
     "metadata": {},
     "output_type": "execute_result"
    }
   ],
   "source": [
    "spearmanr(reviewed_data['novelty_0.05_25'], reviewed_data['review_sentiment'])"
   ]
  },
  {
   "cell_type": "code",
   "execution_count": 78,
   "id": "a2d1310e-1d2b-49c4-b403-fdd318e5df49",
   "metadata": {},
   "outputs": [
    {
     "data": {
      "text/plain": [
       "0.2801073938387348"
      ]
     },
     "execution_count": 78,
     "metadata": {},
     "output_type": "execute_result"
    }
   ],
   "source": [
    "r2d(0.1387)"
   ]
  },
  {
   "cell_type": "code",
   "execution_count": 79,
   "id": "125472ef-3a9a-473a-b6be-e1394955a2cd",
   "metadata": {},
   "outputs": [
    {
     "data": {
      "text/plain": [
       "SignificanceResult(statistic=-0.14092669488030063, pvalue=9.693210054795761e-38)"
      ]
     },
     "execution_count": 79,
     "metadata": {},
     "output_type": "execute_result"
    }
   ],
   "source": [
    "spearmanr(reviewed_data['review_sentiment'], reviewed_data['review_wordcount'])"
   ]
  },
  {
   "cell_type": "markdown",
   "id": "2cb1ce90-8f84-4dfe-a6ed-25c7d4bf1ea8",
   "metadata": {},
   "source": [
    "I suspect magazines that write long reviews are also more likely to write harsh reviews than those that are just producing a short \"notice\" of a book. Also the editors of BRD might be more likely to include a very harsh review to balance out perspectives on a book if it already has multiple reviews."
   ]
  },
  {
   "cell_type": "markdown",
   "id": "6080570c",
   "metadata": {},
   "source": [
    "### Individual magazines\n",
    "\n",
    "Let's see which magazines predict success."
   ]
  },
  {
   "cell_type": "code",
   "execution_count": 80,
   "id": "62447ea9",
   "metadata": {},
   "outputs": [
    {
     "data": {
      "text/plain": [
       "(9293, 62)"
      ]
     },
     "execution_count": 80,
     "metadata": {},
     "output_type": "execute_result"
    }
   ],
   "source": [
    "data.shape"
   ]
  },
  {
   "cell_type": "code",
   "execution_count": 81,
   "id": "4e5dff39",
   "metadata": {},
   "outputs": [
    {
     "data": {
      "text/plain": [
       "(8222, 62)"
      ]
     },
     "execution_count": 81,
     "metadata": {},
     "output_type": "execute_result"
    }
   ],
   "source": [
    "reviewed_data.shape"
   ]
  },
  {
   "cell_type": "code",
   "execution_count": 82,
   "id": "13f40a64",
   "metadata": {},
   "outputs": [
    {
     "data": {
      "text/plain": [
       "(8955, 62)"
      ]
     },
     "execution_count": 82,
     "metadata": {},
     "output_type": "execute_result"
    }
   ],
   "source": [
    "reviewed_data_with_zeroes.shape"
   ]
  },
  {
   "cell_type": "code",
   "execution_count": 84,
   "id": "c52e8132",
   "metadata": {},
   "outputs": [
    {
     "data": {
      "text/plain": [
       "'N Y Times'"
      ]
     },
     "execution_count": 84,
     "metadata": {},
     "output_type": "execute_result"
    }
   ],
   "source": [
    "reviewed_data_with_zeroes.columns[25]"
   ]
  },
  {
   "cell_type": "code",
   "execution_count": 86,
   "id": "e8991b4d",
   "metadata": {},
   "outputs": [
    {
     "data": {
      "text/plain": [
       "'Manchester Guardian'"
      ]
     },
     "execution_count": 86,
     "metadata": {},
     "output_type": "execute_result"
    }
   ],
   "source": [
    "reviewed_data_with_zeroes.columns[54]"
   ]
  },
  {
   "cell_type": "code",
   "execution_count": 87,
   "id": "dcf07530",
   "metadata": {},
   "outputs": [],
   "source": [
    "rdwzcols = reviewed_data_with_zeroes.columns"
   ]
  },
  {
   "cell_type": "code",
   "execution_count": 117,
   "id": "32999b4b",
   "metadata": {},
   "outputs": [
    {
     "name": "stdout",
     "output_type": "stream",
     "text": [
      "25 N Y Times\n",
      "SignificanceResult(statistic=0.03333317658075913, pvalue=0.0016061724266435375)\n",
      "0.06670342056812584\n",
      "\n",
      "26 Sat R of Lit\n",
      "SignificanceResult(statistic=0.04970983782238334, pvalue=2.52206642443229e-06)\n",
      "0.09954274015572102\n",
      "\n",
      "27 Booklist\n",
      "SignificanceResult(statistic=-0.0470623901373216, pvalue=8.373633960716908e-06)\n",
      "-0.09422919075684194\n",
      "\n",
      "28 Boston Transcript\n",
      "SignificanceResult(statistic=0.03907881703455882, pvalue=0.00021648576791515417)\n",
      "0.07821738188034925\n",
      "\n",
      "29 Books\n",
      "SignificanceResult(statistic=0.02259236001671609, pvalue=0.03252413781936332)\n",
      "0.04519625592304947\n",
      "\n",
      "30 Times [London] Lit Sup\n",
      "SignificanceResult(statistic=-0.06417164546257706, pvalue=1.2166395532658078e-09)\n",
      "-0.12860836874076872\n",
      "\n",
      "31 New Yorker\n",
      "SignificanceResult(statistic=0.031196935369749004, pvalue=0.003152127288230313)\n",
      "0.06242425529927744\n",
      "\n",
      "32 Nation\n",
      "SignificanceResult(statistic=0.10689122337199258, pvalue=3.56482992663452e-24)\n",
      "0.21501432382355778\n",
      "\n",
      "33 New Repub\n",
      "SignificanceResult(statistic=0.1353076724660047, pvalue=7.39510474268869e-38)\n",
      "0.27312712293566377\n",
      "\n",
      "34 Springf'd Republican\n",
      "SignificanceResult(statistic=0.009565128705392799, pvalue=0.3654385185737995)\n",
      "0.01913113260060357\n",
      "\n",
      "35 Spec\n",
      "SignificanceResult(statistic=-0.02175136611450258, pvalue=0.0395607036974753)\n",
      "-0.043513026930405346\n",
      "\n",
      "36 Wis Lib Bui\n",
      "SignificanceResult(statistic=-0.02266020433904863, pvalue=0.0320064037656625)\n",
      "-0.04533204883293978\n",
      "\n",
      "37 Library J\n",
      "SignificanceResult(statistic=-0.02528653141247684, pvalue=0.016714210388023613)\n",
      "-0.05058923901020346\n",
      "\n",
      "38 Outlook\n",
      "SignificanceResult(statistic=0.03114286579012447, pvalue=0.003204794353023385)\n",
      "0.06231595835241779\n",
      "\n",
      "39 San Francisco Chronicle\n",
      "SignificanceResult(statistic=0.027627598262062406, pvalue=0.008934312123004438)\n",
      "0.055276296312587674\n",
      "\n",
      "40 NY Times\n",
      "SignificanceResult(statistic=nan, pvalue=nan)\n",
      "nan\n",
      "\n",
      "41 Weekly Book Review\n",
      "SignificanceResult(statistic=-0.005791172916727603, pvalue=0.5837250156266496)\n",
      "-0.011582540060866505\n",
      "\n",
      "42 Lit R\n",
      "SignificanceResult(statistic=0.05929764630621311, pvalue=1.9594305849493344e-08)\n",
      "0.1188043471117932\n",
      "\n",
      "43 Cleveland Open Shelf\n",
      "SignificanceResult(statistic=0.0044705801519803546, pvalue=0.672296786449307)\n",
      "0.00894124965470343\n",
      "\n",
      "44 Time\n",
      "SignificanceResult(statistic=0.04560683048354307, pvalue=1.5783668301416253e-05)\n",
      "0.09130867063816321\n",
      "\n",
      "45 Klrkus\n",
      "SignificanceResult(statistic=0.005552713243990294, pvalue=0.5993129811614615)\n",
      "0.011105597696661395\n",
      "\n",
      "46 Kirkus\n",
      "SignificanceResult(statistic=nan, pvalue=nan)\n",
      "nan\n",
      "\n",
      "47 Bookm\n",
      "SignificanceResult(statistic=0.08138079250590466, pvalue=1.2303423977272074e-14)\n",
      "0.16330324844145475\n",
      "\n",
      "48 Pratt\n",
      "SignificanceResult(statistic=-0.023741159912898, pvalue=0.024662440397508055)\n",
      "-0.0474957070161131\n",
      "\n",
      "49 Sat R\n",
      "SignificanceResult(statistic=0.01455577803362681, pvalue=0.16841750826200252)\n",
      "0.02911464049989286\n",
      "\n",
      "50 Commonweal\n",
      "SignificanceResult(statistic=-0.0033346719394675398, pvalue=0.7523670919317006)\n",
      "-0.006669380960919507\n",
      "\n",
      "51 Cath World\n",
      "SignificanceResult(statistic=-0.03941184985071163, pvalue=0.00019109559549933188)\n",
      "-0.0788849892975418\n",
      "\n",
      "52 Christian Science Monitor\n",
      "SignificanceResult(statistic=-0.024744612283200337, pvalue=0.019199449257517744)\n",
      "-0.049504382550724306\n",
      "\n",
      "53 Book Week\n",
      "SignificanceResult(statistic=-0.008434215427323498, pvalue=0.4248473648691621)\n",
      "-0.01686903086292206\n",
      "\n",
      "54 Manchester Guardian\n",
      "SignificanceResult(statistic=-0.054272143199526085, pvalue=2.7636590645658597e-07)\n",
      "-0.10870449713434686\n",
      "\n"
     ]
    },
    {
     "name": "stderr",
     "output_type": "stream",
     "text": [
      "/var/folders/vr/dvcptvds6pzfv78p3nwbb01c0000gq/T/ipykernel_857/3317220393.py:5: ConstantInputWarning: An input array is constant; the correlation coefficient is not defined.\n",
      "  spear_result = spearmanr(reviewed_data_with_zeroes[rdwzcols[i]], reviewed_data_with_zeroes[['resonance_0.05_25']])\n",
      "/var/folders/vr/dvcptvds6pzfv78p3nwbb01c0000gq/T/ipykernel_857/3317220393.py:5: ConstantInputWarning: An input array is constant; the correlation coefficient is not defined.\n",
      "  spear_result = spearmanr(reviewed_data_with_zeroes[rdwzcols[i]], reviewed_data_with_zeroes[['resonance_0.05_25']])\n"
     ]
    }
   ],
   "source": [
    "venue_effects = []\n",
    "\n",
    "for i in range(25, 55):\n",
    "\tprint(i, rdwzcols[i])\n",
    "\tspear_result = spearmanr(reviewed_data_with_zeroes[rdwzcols[i]], reviewed_data_with_zeroes[['resonance_0.05_25']])\n",
    "\tprint(spear_result)\n",
    "\tr2d_result = r2d(spear_result[0])\n",
    "\tprint(r2d_result)\n",
    "\tif not pd.isnull(r2d_result):\n",
    "\t\tvenue_effects.append(r2d_result)\n",
    "\tprint()"
   ]
  },
  {
   "cell_type": "code",
   "execution_count": 127,
   "id": "60ba550f",
   "metadata": {},
   "outputs": [
    {
     "name": "stdout",
     "output_type": "stream",
     "text": [
      "28 28\n"
     ]
    }
   ],
   "source": [
    "review_lengths = []\n",
    "venue_titles = []\n",
    "venue_size = []\n",
    "\n",
    "for i in range(25, 55):\n",
    "\tnon_zero_values = [value for value in reviewed_data_with_zeroes[rdwzcols[i]] if value != 0]\n",
    "\tif len(non_zero_values) > 0:\n",
    "\t\tmean_value = sum(non_zero_values) / len(non_zero_values)\n",
    "\t\treview_lengths.append(mean_value)\n",
    "\t\ttitle = rdwzcols[i]\n",
    "\t\tif title == \"Cleveland Open Shelf\":\n",
    "\t\t\ttitle = \"Cleveland\"\n",
    "\t\telif title == \"Klrkus\":\n",
    "\t\t\ttitle = \"Kirkus\"\n",
    "\t\tvenue_titles.append(title)\n",
    "\t\t\n",
    "\t\tif len(non_zero_values) > 1000:\n",
    "\t\t\tvenue_size.append('> 1000 reviews')\n",
    "\t\telse:\n",
    "\t\t\tvenue_size.append('< 1000 reviews')\n",
    "\n",
    "print(len(review_lengths), len(venue_effects))"
   ]
  },
  {
   "cell_type": "code",
   "execution_count": 129,
   "id": "aaadada3",
   "metadata": {},
   "outputs": [
    {
     "data": {
      "image/png": "[encoded data removed]",
      "text/plain": [
       "<Figure size 700x600 with 1 Axes>"
      ]
     },
     "metadata": {},
     "output_type": "display_data"
    }
   ],
   "source": [
    "\n",
    "plt.figure(figsize=(7,6))\n",
    "import matplotlib as mpl\n",
    "mpl.rc('font',family='Avenir')\n",
    "\n",
    "vis_df = pd.DataFrame({'venue': venue_titles, 'effect': venue_effects, \n",
    "\t\t\t\t\t\t'length': review_lengths, 'size': venue_size})\n",
    "\n",
    "hfont = {'fontname':'Avenir'}\n",
    "\n",
    "# Create the scatterplot\n",
    "sns.scatterplot(x='length', y='effect', data=vis_df, hue='size', palette='magma')\n",
    "plt.gca().spines['top'].set_visible(False)\n",
    "plt.gca().spines['right'].set_visible(False)\n",
    "\n",
    "# Add labels to the points\n",
    "for i in range(len(vis_df)):\n",
    "\tplt.text(vis_df['length'][i] + 5, vis_df['effect'][i] + 0.004, vis_df['venue'][i], \n",
    "\t\t\tfontsize=9, **hfont)\n",
    "\n",
    "# Set the axis labels\n",
    "plt.xlabel('Mean review length', **hfont)\n",
    "plt.ylabel(\"Size of effect on precocity, Cohen's d\", **hfont)\n",
    "\n",
    "plt.savefig('venue_effects.png', bbox_inches='tight', dpi = 300)\n",
    "\n",
    "# Show the plot\n",
    "plt.show()"
   ]
  },
  {
   "cell_type": "markdown",
   "id": "0618dea1-8dee-4863-9bb2-872a7f9d3b00",
   "metadata": {},
   "source": [
    "## Visualizations\n",
    "\n",
    "define a function that accepts two groups of coordinates and plots them"
   ]
  },
  {
   "cell_type": "code",
   "execution_count": 162,
   "id": "d4145387-7b42-4782-bd14-b5f9bc0199b7",
   "metadata": {},
   "outputs": [],
   "source": [
    "def selectpoints(x1, y1, k):\n",
    "    assert len(x1) == len(y1)\n",
    "    length1 = len(x1)\n",
    "    if length1 < k:\n",
    "        k1 = length1\n",
    "    else:\n",
    "        k1 = k\n",
    "    indices = random.sample([x for x in range(length1)], k1)\n",
    "    x1 = np.array(x1)[indices]\n",
    "    y1 = np.array(y1)[indices]\n",
    "    return x1, y1\n",
    "\n",
    "def plotslopes(x1, x2, y1, y2, k, lab):\n",
    "    x1, y1 = selectpoints(x1, y1, k)\n",
    "    x2, y2 = selectpoints(x2, y2, k)\n",
    "    df1 = pd.DataFrame({'x1': x1, 'y1': y1})\n",
    "    df2 = pd.DataFrame({'x2': x2, 'y2': y2})\n",
    "    \n",
    "    fig, ax = plt.subplots(figsize = (8, 5))\n",
    "    seaborn.regplot(x= x1, y= y1, data= df1, ax=ax, scatter_kws={'s': 3}, label = \"contrast set\")\n",
    "    seaborn.regplot(x = x2, y = y2, data = df2, ax=ax, color='r', scatter_kws={'s': 3}, label = lab)\n",
    "    plt.legend()\n",
    "    plt.title(lab)\n",
    "    \n",
    "    plt.xlabel('Novelty')\n",
    "    \n",
    "    plt.ylabel('Transience')\n",
    "    plt.show()"
   ]
  },
  {
   "cell_type": "code",
   "execution_count": 164,
   "id": "6088b755-0162-4a85-9d60-95faa650d525",
   "metadata": {},
   "outputs": [
    {
     "data": {
      "image/png": "[encoded data removed]",
      "text/plain": [
       "<Figure size 576x360 with 1 Axes>"
      ]
     },
     "metadata": {
      "needs_background": "light"
     },
     "output_type": "display_data"
    }
   ],
   "source": [
    "x1 = data.loc[data.is_average == True, 'novelty_0.05_25']\n",
    "x2 = data.loc[data.is_bestseller == True, 'novelty_0.05_25']\n",
    "y1 = data.loc[data.is_average == True, 'transience_0.05_25']\n",
    "y2 = data.loc[data.is_bestseller == True, 'transience_0.05_25']\n",
    "plotslopes(x1, x2, y1, y2, 300, 'bestsellers')"
   ]
  },
  {
   "cell_type": "code",
   "execution_count": 145,
   "id": "566f7f1a-89dc-4f30-9ef7-e4dcb0b75558",
   "metadata": {},
   "outputs": [
    {
     "data": {
      "image/png": "[encoded data removed]",
      "text/plain": [
       "<Figure size 576x360 with 1 Axes>"
      ]
     },
     "metadata": {
      "needs_background": "light"
     },
     "output_type": "display_data"
    }
   ],
   "source": [
    "x1 = data.loc[data.is_average == True, 'novelty_0.05_25']\n",
    "x2 = data.loc[data.is_retroavant == True, 'novelty_0.05_25']\n",
    "y1 = data.loc[data.is_average == True, 'transience_0.05_25']\n",
    "y2 = data.loc[data.is_retroavant == True, 'transience_0.05_25']\n",
    "plotslopes(x1, x2, y1, y2, 50, \"avant-garde according to critics\")"
   ]
  },
  {
   "cell_type": "code",
   "execution_count": 147,
   "id": "fa07e323-e334-451f-8d7c-f94edf4a4a81",
   "metadata": {},
   "outputs": [
    {
     "data": {
      "image/png": "[encoded data removed]",
      "text/plain": [
       "<Figure size 576x360 with 1 Axes>"
      ]
     },
     "metadata": {
      "needs_background": "light"
     },
     "output_type": "display_data"
    }
   ],
   "source": [
    "x1 = data.loc[data.is_average == True, 'novelty_0.05_25']\n",
    "x2 = data.loc[data.is_prize_author == True, 'novelty_0.05_25']\n",
    "y1 = data.loc[data.is_average == True, 'transience_0.05_25']\n",
    "y2 = data.loc[data.is_prize_author == True, 'transience_0.05_25']\n",
    "plotslopes(x1, x2, y1, y2, 350, \"prize-winning authors\")"
   ]
  },
  {
   "cell_type": "code",
   "execution_count": 150,
   "id": "ba2a0974-88d2-4ae9-a8fe-36605eccdfa8",
   "metadata": {},
   "outputs": [],
   "source": [
    "def plotslopesNR(x1, x2, y1, y2, k, lab):\n",
    "    x1, y1 = selectpoints(x1, y1, k)\n",
    "    x2, y2 = selectpoints(x2, y2, k)\n",
    "    df1 = pd.DataFrame({'x1': x1, 'y1': y1, 'label': ['avg'] * len(x1)})\n",
    "    df2 = pd.DataFrame({'x2': x2, 'y2': y2, 'label': ['best'] * len(x2)})\n",
    "    \n",
    "    fig, ax = plt.subplots(figsize = (8, 5))\n",
    "    seaborn.regplot(x= x1, y= y1, data= df1, ax=ax, scatter_kws={'s': 3}, label = \"average\")\n",
    "    seaborn.regplot(x = x2, y = y2, data = df2, ax=ax, color='r', scatter_kws={'s': 3}, label = lab)\n",
    "    plt.legend()\n",
    "    plt.title(lab)\n",
    "    \n",
    "    plt.xlabel('Novelty')\n",
    "    \n",
    "    plt.ylabel('Resonance')\n",
    "    plt.show()\n",
    "    return pd.concat([df1, df2])"
   ]
  },
  {
   "cell_type": "code",
   "execution_count": 153,
   "id": "c0cd9e5a-6e26-4f08-88fc-32afda459c67",
   "metadata": {},
   "outputs": [
    {
     "data": {
      "image/png": "[encoded data removed]",
      "text/plain": [
       "<Figure size 576x360 with 1 Axes>"
      ]
     },
     "metadata": {
      "needs_background": "light"
     },
     "output_type": "display_data"
    }
   ],
   "source": [
    "x1 = data.loc[data.is_average == True, 'novelty_0.05_25']\n",
    "x2 = data.loc[data.is_bestseller == True, 'novelty_0.05_25']\n",
    "y1 = data.loc[data.is_average == True, 'resonance_0.05_25']\n",
    "y2 = data.loc[data.is_bestseller == True, 'resonance_0.05_25']\n",
    "plotdf = plotslopesNR(x1, x2, y1, y2, 300, 'bestsellers')"
   ]
  },
  {
   "cell_type": "code",
   "execution_count": 154,
   "id": "a2b6f657-d465-4853-b069-cb6c3997a22c",
   "metadata": {},
   "outputs": [],
   "source": [
    "plotdf.to_csv('bestresonance.tsv', sep = '\\t')"
   ]
  },
  {
   "cell_type": "code",
   "execution_count": 158,
   "id": "59d78ca7-7d5b-4dfa-aa41-480a66665be6",
   "metadata": {},
   "outputs": [],
   "source": [
    "bestavg = data.loc[(data.is_bestseller) | (data.is_average), : ]\n",
    "bestavg.to_csv('bestresfull.tsv', sep = '\\t')"
   ]
  },
  {
   "cell_type": "code",
   "execution_count": 156,
   "id": "88574569-31df-4cc8-915c-da711cb70bde",
   "metadata": {},
   "outputs": [
    {
     "data": {
      "image/png": "[encoded data removed]",
      "text/plain": [
       "<Figure size 576x360 with 1 Axes>"
      ]
     },
     "metadata": {
      "needs_background": "light"
     },
     "output_type": "display_data"
    }
   ],
   "source": [
    "x1 = data.loc[data.is_average == True, 'novelty_0.05_25']\n",
    "x2 = data.loc[data.is_retroavant == True, 'novelty_0.05_25']\n",
    "y1 = data.loc[data.is_average == True, 'resonance_0.05_25']\n",
    "y2 = data.loc[data.is_retroavant == True, 'resonance_0.05_25']\n",
    "plotdf = plotslopesNR(x1, x2, y1, y2, 50, 'ret. critical faves')"
   ]
  },
  {
   "cell_type": "code",
   "execution_count": 119,
   "id": "e3c5bbb6-6638-45f6-98fc-6f63267db084",
   "metadata": {},
   "outputs": [
    {
     "data": {
      "text/plain": [
       "-0.3636305807320293"
      ]
     },
     "execution_count": 119,
     "metadata": {},
     "output_type": "execute_result"
    }
   ],
   "source": [
    "np.mean(y2)"
   ]
  },
  {
   "cell_type": "markdown",
   "id": "d0871e99-e5bd-4adb-999e-32c15f2c2c5e",
   "metadata": {},
   "source": [
    "### Multivariate linear regression"
   ]
  },
  {
   "cell_type": "code",
   "execution_count": 109,
   "id": "642d7af9-dd3a-46ef-97b9-55e77d767e73",
   "metadata": {},
   "outputs": [],
   "source": [
    "import statsmodels.api as sm"
   ]
  },
  {
   "cell_type": "code",
   "execution_count": 115,
   "id": "b46bdcd8-5066-422a-9bd8-3a1bb82290e6",
   "metadata": {},
   "outputs": [],
   "source": [
    "X = sm.add_constant(data.loc[ : , ['review_wordcount', 'is_bestseller', 'prize_author']],\n",
    "                    prepend = False)\n",
    "X['is_bestseller'] = X['is_bestseller'].map({True: 1, False: 0})\n",
    "X['prize_author'] = X['prize_author'].map({True: 1, False: 0})\n",
    "y = data.loc[ : , 'resonance_0.05_25']"
   ]
  },
  {
   "cell_type": "code",
   "execution_count": 118,
   "id": "59e17e01-a68b-4f58-9959-ae85ddd69ae3",
   "metadata": {},
   "outputs": [
    {
     "name": "stdout",
     "output_type": "stream",
     "text": [
      "                            OLS Regression Results                            \n",
      "==============================================================================\n",
      "Dep. Variable:      resonance_0.05_25   R-squared:                       0.020\n",
      "Model:                            OLS   Adj. R-squared:                  0.020\n",
      "Method:                 Least Squares   F-statistic:                     37.59\n",
      "Date:                Mon, 25 Jul 2022   Prob (F-statistic):           4.90e-24\n",
      "Time:                        09:21:13   Log-Likelihood:                -7739.8\n",
      "No. Observations:                5494   AIC:                         1.549e+04\n",
      "Df Residuals:                    5490   BIC:                         1.551e+04\n",
      "Df Model:                           3                                         \n",
      "Covariance Type:            nonrobust                                         \n",
      "====================================================================================\n",
      "                       coef    std err          t      P>|t|      [0.025      0.975]\n",
      "------------------------------------------------------------------------------------\n",
      "review_wordcount  4.228e-05   4.23e-06      9.998      0.000     3.4e-05    5.06e-05\n",
      "is_bestseller       -0.0035      0.081     -0.043      0.966      -0.161       0.154\n",
      "prize_author         0.1095      0.058      1.886      0.059      -0.004       0.223\n",
      "const               -0.1354      0.018     -7.328      0.000      -0.172      -0.099\n",
      "==============================================================================\n",
      "Omnibus:                      404.214   Durbin-Watson:                   1.875\n",
      "Prob(Omnibus):                  0.000   Jarque-Bera (JB):             1134.094\n",
      "Skew:                           0.399   Prob(JB):                    5.43e-247\n",
      "Kurtosis:                       5.078   Cond. No.                     2.70e+04\n",
      "==============================================================================\n",
      "\n",
      "Notes:\n",
      "[1] Standard Errors assume that the covariance matrix of the errors is correctly specified.\n",
      "[2] The condition number is large, 2.7e+04. This might indicate that there are\n",
      "strong multicollinearity or other numerical problems.\n"
     ]
    }
   ],
   "source": [
    "model = sm.OLS(y, X)\n",
    "result = model.fit()\n",
    "print(result.summary())"
   ]
  },
  {
   "cell_type": "markdown",
   "id": "36e5874d-8f10-4727-b908-13be32502de9",
   "metadata": {},
   "source": [
    "If we include wordcount with the bestseller and prizewinner conditions, only wordcount is significant. Now, this may be partly because we have fuller data for wordcount.\n",
    "\n",
    "**Let's try sentiment** across the rows where we have sentiment data."
   ]
  },
  {
   "cell_type": "code",
   "execution_count": 120,
   "id": "442f13ae-d952-437f-b164-df899d09ad48",
   "metadata": {},
   "outputs": [
    {
     "name": "stdout",
     "output_type": "stream",
     "text": [
      "                            OLS Regression Results                            \n",
      "==============================================================================\n",
      "Dep. Variable:      resonance_0.05_25   R-squared:                       0.019\n",
      "Model:                            OLS   Adj. R-squared:                  0.018\n",
      "Method:                 Least Squares   F-statistic:                     20.70\n",
      "Date:                Mon, 25 Jul 2022   Prob (F-statistic):           6.49e-17\n",
      "Time:                        09:24:13   Log-Likelihood:                -5939.2\n",
      "No. Observations:                4303   AIC:                         1.189e+04\n",
      "Df Residuals:                    4298   BIC:                         1.192e+04\n",
      "Df Model:                           4                                         \n",
      "Covariance Type:            nonrobust                                         \n",
      "====================================================================================\n",
      "                       coef    std err          t      P>|t|      [0.025      0.975]\n",
      "------------------------------------------------------------------------------------\n",
      "review_wordcount  3.686e-05    4.9e-06      7.524      0.000    2.73e-05    4.65e-05\n",
      "is_bestseller       -0.0893      0.098     -0.915      0.360      -0.281       0.102\n",
      "prize_author         0.1353      0.068      1.986      0.047       0.002       0.269\n",
      "review_sentiment    -0.1507      0.049     -3.055      0.002      -0.247      -0.054\n",
      "const                0.4276      0.175      2.438      0.015       0.084       0.771\n",
      "==============================================================================\n",
      "Omnibus:                      353.344   Durbin-Watson:                   1.834\n",
      "Prob(Omnibus):                  0.000   Jarque-Bera (JB):              887.139\n",
      "Skew:                           0.481   Prob(JB):                    2.29e-193\n",
      "Kurtosis:                       5.005   Cond. No.                     6.23e+04\n",
      "==============================================================================\n",
      "\n",
      "Notes:\n",
      "[1] Standard Errors assume that the covariance matrix of the errors is correctly specified.\n",
      "[2] The condition number is large, 6.23e+04. This might indicate that there are\n",
      "strong multicollinearity or other numerical problems.\n"
     ]
    }
   ],
   "source": [
    "X = sm.add_constant(data.loc[~pd.isnull(data.review_sentiment), ['review_wordcount', 'is_bestseller',\n",
    "                                                                 'prize_author', 'review_sentiment']],\n",
    "                    prepend = False)\n",
    "X['is_bestseller'] = X['is_bestseller'].map({True: 1, False: 0})\n",
    "X['prize_author'] = X['prize_author'].map({True: 1, False: 0})\n",
    "y = data.loc[~pd.isnull(data.review_sentiment), 'resonance_0.05_25']\n",
    "model = sm.OLS(y, X)\n",
    "result = model.fit()\n",
    "print(result.summary())"
   ]
  },
  {
   "cell_type": "markdown",
   "id": "caeb232a-9601-4028-a056-79092b65a6bd",
   "metadata": {},
   "source": [
    "If we include sentiment, it's an effective (negative) predictor across the rows where sentiment exists."
   ]
  },
  {
   "cell_type": "markdown",
   "id": "b4ac4668-25b8-453c-8694-3484985bde05",
   "metadata": {},
   "source": [
    "### Do we find an \"inverse U\"?\n",
    "\n",
    "In other words, are books rewarded for achieving a medium level of \"optimum differentiation\" from the past?\n",
    "\n",
    "Following the model of Silver, Childress, et al., we might expect review wordcount or review sentiment to peak at medium levels of novelty."
   ]
  },
  {
   "cell_type": "code",
   "execution_count": 137,
   "id": "00e3af87-89dc-41bf-8cdc-9526c95f28e2",
   "metadata": {},
   "outputs": [
    {
     "data": {
      "text/html": [
       "<div>\n",
       "<style scoped>\n",
       "    .dataframe tbody tr th:only-of-type {\n",
       "        vertical-align: middle;\n",
       "    }\n",
       "\n",
       "    .dataframe tbody tr th {\n",
       "        vertical-align: top;\n",
       "    }\n",
       "\n",
       "    .dataframe thead th {\n",
       "        text-align: right;\n",
       "    }\n",
       "</style>\n",
       "<table border=\"1\" class=\"dataframe\">\n",
       "  <thead>\n",
       "    <tr style=\"text-align: right;\">\n",
       "      <th></th>\n",
       "      <th>review_wordcount</th>\n",
       "      <th>novelty_0.05_25</th>\n",
       "      <th>resonance_0.05_25</th>\n",
       "      <th>relative_novelty</th>\n",
       "      <th>relative_precocity</th>\n",
       "    </tr>\n",
       "  </thead>\n",
       "  <tbody>\n",
       "    <tr>\n",
       "      <th>0</th>\n",
       "      <td>2400.0</td>\n",
       "      <td>-0.235232</td>\n",
       "      <td>0.907823</td>\n",
       "      <td>11</td>\n",
       "      <td>20</td>\n",
       "    </tr>\n",
       "    <tr>\n",
       "      <th>1</th>\n",
       "      <td>5010.0</td>\n",
       "      <td>-1.012464</td>\n",
       "      <td>0.154430</td>\n",
       "      <td>3</td>\n",
       "      <td>14</td>\n",
       "    </tr>\n",
       "    <tr>\n",
       "      <th>2</th>\n",
       "      <td>600.0</td>\n",
       "      <td>0.961344</td>\n",
       "      <td>-0.920786</td>\n",
       "      <td>21</td>\n",
       "      <td>3</td>\n",
       "    </tr>\n",
       "    <tr>\n",
       "      <th>3</th>\n",
       "      <td>930.0</td>\n",
       "      <td>-0.535305</td>\n",
       "      <td>-0.974632</td>\n",
       "      <td>7</td>\n",
       "      <td>3</td>\n",
       "    </tr>\n",
       "    <tr>\n",
       "      <th>4</th>\n",
       "      <td>3600.0</td>\n",
       "      <td>-1.927121</td>\n",
       "      <td>-0.444320</td>\n",
       "      <td>0</td>\n",
       "      <td>8</td>\n",
       "    </tr>\n",
       "  </tbody>\n",
       "</table>\n",
       "</div>"
      ],
      "text/plain": [
       "   review_wordcount  novelty_0.05_25  resonance_0.05_25  relative_novelty  \\\n",
       "0            2400.0        -0.235232           0.907823                11   \n",
       "1            5010.0        -1.012464           0.154430                 3   \n",
       "2             600.0         0.961344          -0.920786                21   \n",
       "3             930.0        -0.535305          -0.974632                 7   \n",
       "4            3600.0        -1.927121          -0.444320                 0   \n",
       "\n",
       "   relative_precocity  \n",
       "0                  20  \n",
       "1                  14  \n",
       "2                   3  \n",
       "3                   3  \n",
       "4                   8  "
      ]
     },
     "execution_count": 137,
     "metadata": {},
     "output_type": "execute_result"
    }
   ],
   "source": [
    "summarydf = data.loc[ : , ['review_wordcount', 'novelty_0.05_25', 'resonance_0.05_25']]\n",
    "summarydf['relative_novelty'] = pd.qcut(summarydf['novelty_0.05_25'], 25, labels = False)\n",
    "summarydf['relative_precocity'] = pd.qcut(summarydf['resonance_0.05_25'], 25, labels = False)\n",
    "summarydf.head()"
   ]
  },
  {
   "cell_type": "code",
   "execution_count": 138,
   "id": "5a8afd3e-4909-47eb-9af6-b04452942e71",
   "metadata": {},
   "outputs": [],
   "source": [
    "sns.set(rc = {'figure.figsize':(9,6)})"
   ]
  },
  {
   "cell_type": "code",
   "execution_count": 139,
   "id": "3148b90d-482e-4d1b-9321-364001d0426a",
   "metadata": {},
   "outputs": [
    {
     "data": {
      "text/plain": [
       "<AxesSubplot:xlabel='relative_novelty', ylabel='review_wordcount'>"
      ]
     },
     "execution_count": 139,
     "metadata": {},
     "output_type": "execute_result"
    },
    {
     "data": {
      "image/png": "[encoded data removed]",
      "text/plain": [
       "<Figure size 648x432 with 1 Axes>"
      ]
     },
     "metadata": {},
     "output_type": "display_data"
    }
   ],
   "source": [
    "sns.lineplot(x = 'relative_novelty', y = 'review_wordcount', data = summarydf)"
   ]
  },
  {
   "cell_type": "markdown",
   "id": "2aa2fefb-0e5c-493b-a6da-c9bc70fd9586",
   "metadata": {},
   "source": [
    "**That is not really an inverse U.** Less is written about a book as it gets more novel.\n",
    "\n",
    "What if we try precocity?"
   ]
  },
  {
   "cell_type": "code",
   "execution_count": 140,
   "id": "1e25936c-b4d4-45ac-8659-4322a658f2cb",
   "metadata": {},
   "outputs": [
    {
     "data": {
      "text/plain": [
       "<AxesSubplot:xlabel='relative_precocity', ylabel='review_wordcount'>"
      ]
     },
     "execution_count": 140,
     "metadata": {},
     "output_type": "execute_result"
    },
    {
     "data": {
      "image/png": "[encoded data removed]",
      "text/plain": [
       "<Figure size 648x432 with 1 Axes>"
      ]
     },
     "metadata": {},
     "output_type": "display_data"
    }
   ],
   "source": [
    "sns.lineplot(x = 'relative_precocity', y = 'review_wordcount', data = summarydf)"
   ]
  },
  {
   "cell_type": "markdown",
   "id": "aafdd33f-6e3d-4c02-8fcd-bc812e74a29d",
   "metadata": {},
   "source": [
    "Still not an inverse U.\n",
    "\n",
    "**What if we try with sentiment?**"
   ]
  },
  {
   "cell_type": "code",
   "execution_count": 143,
   "id": "ab512f65-70df-4d20-93eb-8b9e051a74aa",
   "metadata": {},
   "outputs": [
    {
     "data": {
      "text/html": [
       "<div>\n",
       "<style scoped>\n",
       "    .dataframe tbody tr th:only-of-type {\n",
       "        vertical-align: middle;\n",
       "    }\n",
       "\n",
       "    .dataframe tbody tr th {\n",
       "        vertical-align: top;\n",
       "    }\n",
       "\n",
       "    .dataframe thead th {\n",
       "        text-align: right;\n",
       "    }\n",
       "</style>\n",
       "<table border=\"1\" class=\"dataframe\">\n",
       "  <thead>\n",
       "    <tr style=\"text-align: right;\">\n",
       "      <th></th>\n",
       "      <th>review_wordcount</th>\n",
       "      <th>review_sentiment</th>\n",
       "      <th>novelty_0.05_25</th>\n",
       "      <th>resonance_0.05_25</th>\n",
       "      <th>relative_novelty</th>\n",
       "      <th>relative_precocity</th>\n",
       "    </tr>\n",
       "  </thead>\n",
       "  <tbody>\n",
       "    <tr>\n",
       "      <th>0</th>\n",
       "      <td>2400.0</td>\n",
       "      <td>3.715599</td>\n",
       "      <td>-0.235232</td>\n",
       "      <td>0.907823</td>\n",
       "      <td>11</td>\n",
       "      <td>20</td>\n",
       "    </tr>\n",
       "    <tr>\n",
       "      <th>1</th>\n",
       "      <td>5010.0</td>\n",
       "      <td>3.500459</td>\n",
       "      <td>-1.012464</td>\n",
       "      <td>0.154430</td>\n",
       "      <td>3</td>\n",
       "      <td>14</td>\n",
       "    </tr>\n",
       "    <tr>\n",
       "      <th>2</th>\n",
       "      <td>600.0</td>\n",
       "      <td>3.759941</td>\n",
       "      <td>0.961344</td>\n",
       "      <td>-0.920786</td>\n",
       "      <td>21</td>\n",
       "      <td>3</td>\n",
       "    </tr>\n",
       "    <tr>\n",
       "      <th>3</th>\n",
       "      <td>930.0</td>\n",
       "      <td>3.706520</td>\n",
       "      <td>-0.535305</td>\n",
       "      <td>-0.974632</td>\n",
       "      <td>8</td>\n",
       "      <td>2</td>\n",
       "    </tr>\n",
       "    <tr>\n",
       "      <th>4</th>\n",
       "      <td>3600.0</td>\n",
       "      <td>3.613030</td>\n",
       "      <td>-1.927121</td>\n",
       "      <td>-0.444320</td>\n",
       "      <td>0</td>\n",
       "      <td>7</td>\n",
       "    </tr>\n",
       "  </tbody>\n",
       "</table>\n",
       "</div>"
      ],
      "text/plain": [
       "   review_wordcount  review_sentiment  novelty_0.05_25  resonance_0.05_25  \\\n",
       "0            2400.0          3.715599        -0.235232           0.907823   \n",
       "1            5010.0          3.500459        -1.012464           0.154430   \n",
       "2             600.0          3.759941         0.961344          -0.920786   \n",
       "3             930.0          3.706520        -0.535305          -0.974632   \n",
       "4            3600.0          3.613030        -1.927121          -0.444320   \n",
       "\n",
       "   relative_novelty  relative_precocity  \n",
       "0                11                  20  \n",
       "1                 3                  14  \n",
       "2                21                   3  \n",
       "3                 8                   2  \n",
       "4                 0                   7  "
      ]
     },
     "execution_count": 143,
     "metadata": {},
     "output_type": "execute_result"
    }
   ],
   "source": [
    "summarydf = data.loc[~pd.isnull(data.review_sentiment), ['review_wordcount', 'review_sentiment',\n",
    "                                                      'novelty_0.05_25', 'resonance_0.05_25']]\n",
    "summarydf['relative_novelty'] = pd.qcut(summarydf['novelty_0.05_25'], 25, labels = False)\n",
    "summarydf['relative_precocity'] = pd.qcut(summarydf['resonance_0.05_25'], 25, labels = False)\n",
    "summarydf.head()"
   ]
  },
  {
   "cell_type": "code",
   "execution_count": 144,
   "id": "c698438e-59a1-4cfd-8cc1-38024a61eef8",
   "metadata": {},
   "outputs": [
    {
     "data": {
      "text/plain": [
       "<AxesSubplot:xlabel='relative_novelty', ylabel='review_sentiment'>"
      ]
     },
     "execution_count": 144,
     "metadata": {},
     "output_type": "execute_result"
    },
    {
     "data": {
      "image/png": "[encoded data removed]",
      "text/plain": [
       "<Figure size 648x432 with 1 Axes>"
      ]
     },
     "metadata": {},
     "output_type": "display_data"
    }
   ],
   "source": [
    "sns.lineplot(x = 'relative_novelty', y = 'review_sentiment', data = summarydf)"
   ]
  },
  {
   "cell_type": "markdown",
   "id": "311b4652-b24f-43ef-95d8-e63ac6a54a88",
   "metadata": {},
   "source": [
    "Still not an inverse U! Sentiment gets more positive as a book gets more novel."
   ]
  },
  {
   "cell_type": "markdown",
   "id": "d07e027a-38ff-4b23-a92d-af13e2a6c3ea",
   "metadata": {},
   "source": [
    "### We could try to do the same thing for the cosine results"
   ]
  },
  {
   "cell_type": "code",
   "execution_count": 70,
   "id": "cca8b414-ae7c-4829-be7c-c6f68d712964",
   "metadata": {},
   "outputs": [],
   "source": [
    "cosresults = pd.read_csv('results/centersurprise_0cossummary.tsv', sep = '\\t', low_memory = False)"
   ]
  },
  {
   "cell_type": "code",
   "execution_count": 75,
   "id": "1c2a360f-2298-4712-ae44-b404e11c7ddf",
   "metadata": {},
   "outputs": [
    {
     "data": {
      "text/plain": [
       "(5494, 24)"
      ]
     },
     "execution_count": 75,
     "metadata": {},
     "output_type": "execute_result"
    }
   ],
   "source": [
    "cosdata = meta.merge(cosresults, on = 'docid')\n",
    "cosdata.shape"
   ]
  }
 ],
 "metadata": {
  "kernelspec": {
   "display_name": "Python 3 (ipykernel)",
   "language": "python",
   "name": "python3"
  },
  "language_info": {
   "codemirror_mode": {
    "name": "ipython",
    "version": 3
   },
   "file_extension": ".py",
   "mimetype": "text/x-python",
   "name": "python",
   "nbconvert_exporter": "python",
   "pygments_lexer": "ipython3",
   "version": "3.12.1"
  }
 },
 "nbformat": 4,
 "nbformat_minor": 5
}
